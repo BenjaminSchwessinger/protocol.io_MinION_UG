{
 "cells": [
  {
   "cell_type": "code",
   "execution_count": 1,
   "metadata": {
    "collapsed": false
   },
   "outputs": [],
   "source": [
    "%matplotlib inline\n",
    "import matplotlib.pyplot as plt\n",
    "import matplotlib\n",
    "import numpy as np"
   ]
  },
  {
   "cell_type": "code",
   "execution_count": 2,
   "metadata": {
    "collapsed": true
   },
   "outputs": [],
   "source": [
    "import os\n",
    "os.chdir('/Users/ben/Documents/work_related/Canberra/RJ_lab_projects/Rust_genome_sequencing/PST79/data/MinIon/analysis/29092016_M/')\n",
    "outdir='/Users/ben/Documents/work_related/Canberra/RJ_lab_projects/Rust_genome_sequencing/PST79/data/MinIon/analysis/29092016_M/'"
   ]
  },
  {
   "cell_type": "code",
   "execution_count": 3,
   "metadata": {
    "collapsed": true
   },
   "outputs": [],
   "source": [
    "length_file = \"29092016_M.poretools.cbbu.pass.group1.lengths.txt\"\n",
    "_id = \"29092016_M.poretools.cbbu.pass.group1.\""
   ]
  },
  {
   "cell_type": "code",
   "execution_count": 4,
   "metadata": {
    "collapsed": false
   },
   "outputs": [],
   "source": [
    "from Bio import SeqIO\n",
    "lengths = open(length_file, \"w\")\n",
    "for seq in SeqIO.parse(open(_id+'fa'), 'fasta'):\n",
    "    print(seq.id+\",\"+str(len(seq)), file=lengths)\n",
    "lengths.close()"
   ]
  },
  {
   "cell_type": "code",
   "execution_count": 5,
   "metadata": {
    "collapsed": true
   },
   "outputs": [],
   "source": [
    "import pandas as pd"
   ]
  },
  {
   "cell_type": "code",
   "execution_count": 6,
   "metadata": {
    "collapsed": false
   },
   "outputs": [],
   "source": [
    "font = {'family' : 'normal',\n",
    "        'weight' : 'bold',\n",
    "        'size'   : 15}\n",
    "matplotlib.rc('font', **font) #changes font of the plot\n",
    "label_config_x = {'fontsize'            : 'large',\n",
    "      'verticalalignment'   : 'top',\n",
    "      'horizontalalignment' : 'center'\n",
    "      }\n",
    "label_config_y = {'fontsize'            : 'large',\n",
    "      'verticalalignment'   : 'bottom',\n",
    "      'horizontalalignment' : 'center'\n",
    "      }"
   ]
  },
  {
   "cell_type": "code",
   "execution_count": 7,
   "metadata": {
    "collapsed": false
   },
   "outputs": [],
   "source": [
    "poretools_df  =pd.read_csv(length_file, header=None)"
   ]
  },
  {
   "cell_type": "code",
   "execution_count": 8,
   "metadata": {
    "collapsed": false
   },
   "outputs": [
    {
     "name": "stderr",
     "output_type": "stream",
     "text": [
      "/anaconda/lib/python3.5/site-packages/matplotlib/font_manager.py:1288: UserWarning: findfont: Font family ['normal'] not found. Falling back to Bitstream Vera Sans\n",
      "  (prop.get_family(), self.defaultFamily[fontext]))\n"
     ]
    },
    {
     "data": {
      "image/png": "[encoded data removed]",
      "text/plain": [
       "<matplotlib.figure.Figure at 0x11418e6a0>"
      ]
     },
     "metadata": {},
     "output_type": "display_data"
    }
   ],
   "source": [
    "poretools_df[1].hist(bins=20)\n",
    "plt.xlabel('read_length')\n",
    "plt.xticks(np.arange(0,poretools_df[1].max()+1,20000))\n",
    "plt.ylabel('count')\n",
    "plt.title('pass reads length distribution')\n",
    "plt.savefig(outdir+_id+\"_read_lenght.tiff\")"
   ]
  },
  {
   "cell_type": "code",
   "execution_count": 9,
   "metadata": {
    "collapsed": false
   },
   "outputs": [
    {
     "data": {
      "text/plain": [
       "9081.913499400787"
      ]
     },
     "execution_count": 9,
     "metadata": {},
     "output_type": "execute_result"
    }
   ],
   "source": [
    "poretools_df[1].mean()"
   ]
  },
  {
   "cell_type": "code",
   "execution_count": 10,
   "metadata": {
    "collapsed": false
   },
   "outputs": [
    {
     "data": {
      "text/plain": [
       "6303.5"
      ]
     },
     "execution_count": 10,
     "metadata": {},
     "output_type": "execute_result"
    }
   ],
   "source": [
    "poretools_df[1].median()"
   ]
  },
  {
   "cell_type": "code",
   "execution_count": 11,
   "metadata": {
    "collapsed": false
   },
   "outputs": [
    {
     "data": {
      "text/plain": [
       "212189827"
      ]
     },
     "execution_count": 11,
     "metadata": {},
     "output_type": "execute_result"
    }
   ],
   "source": [
    "poretools_df[1].sum()"
   ]
  },
  {
   "cell_type": "code",
   "execution_count": 12,
   "metadata": {
    "collapsed": false
   },
   "outputs": [],
   "source": [
    "!/Users/ben/.conda/envs/poretools/bin/python ../../nanopore-scripts/expand-cigar.py --bam v91_cns_gcoords_cur_ph_ctg.29092016_M.poretools.cbbu.pass.group1.sorted.bam --fasta v91_cns_gcoords_curs_ph_ctg.fa >  v91_cns_gcoords_cur_ph_ctg.29092016_M.poretools.cbbu.pass.group1.sorted.expanded.bam   "
   ]
  },
  {
   "cell_type": "code",
   "execution_count": 13,
   "metadata": {
    "collapsed": false
   },
   "outputs": [
    {
     "name": "stdout",
     "output_type": "stream",
     "text": [
      "/Users/ben/.conda/envs/poretools/bin/python\r\n"
     ]
    }
   ],
   "source": [
    "!which python"
   ]
  },
  {
   "cell_type": "code",
   "execution_count": 14,
   "metadata": {
    "collapsed": false
   },
   "outputs": [],
   "source": [
    "!/Users/ben/.conda/envs/poretools/bin/python ../../nanopore-scripts_BS/count_errors_BS.py v91_cns_gcoords_cur_ph_ctg.29092016_M.poretools.cbbu.pass.group1.sorted.expanded.bam > v91_cns_gcoords_cur_ph_ctg.29092016_M.poretools.cbbu.pass.group1.error_profile.txt    "
   ]
  },
  {
   "cell_type": "code",
   "execution_count": 39,
   "metadata": {
    "collapsed": false
   },
   "outputs": [],
   "source": [
    "error_df  = pd.read_csv('v91_cns_gcoords_cur_ph_ctg.'+_id+'error_profile.txt', sep='\\t')"
   ]
  },
  {
   "cell_type": "code",
   "execution_count": 34,
   "metadata": {
    "collapsed": false
   },
   "outputs": [
    {
     "data": {
      "text/html": [
       "<div>\n",
       "<table border=\"1\" class=\"dataframe\">\n",
       "  <thead>\n",
       "    <tr style=\"text-align: right;\">\n",
       "      <th></th>\n",
       "      <th>query</th>\n",
       "      <th>read_type</th>\n",
       "      <th>read_len</th>\n",
       "      <th>align_len</th>\n",
       "      <th>unalign_len</th>\n",
       "      <th>matches</th>\n",
       "      <th>mismatches</th>\n",
       "      <th>insertions</th>\n",
       "      <th>deletions</th>\n",
       "      <th>tot_errors</th>\n",
       "      <th>%Identity</th>\n",
       "    </tr>\n",
       "  </thead>\n",
       "  <tbody>\n",
       "    <tr>\n",
       "      <th>448</th>\n",
       "      <td>b112c75e-4b01-4d74-b092-ab342bc69a9c_Basecall_...</td>\n",
       "      <td>b112c75e-4b01-4d74-b092-ab342bc69a9c</td>\n",
       "      <td>66115</td>\n",
       "      <td>54762</td>\n",
       "      <td>12931</td>\n",
       "      <td>47839</td>\n",
       "      <td>3343</td>\n",
       "      <td>2002</td>\n",
       "      <td>3580</td>\n",
       "      <td>8925</td>\n",
       "      <td>84.277007</td>\n",
       "    </tr>\n",
       "    <tr>\n",
       "      <th>1124</th>\n",
       "      <td>a66f08ee-3d99-47be-bb99-644c17bfe264_Basecall_...</td>\n",
       "      <td>a66f08ee-3d99-47be-bb99-644c17bfe264</td>\n",
       "      <td>54152</td>\n",
       "      <td>55631</td>\n",
       "      <td>37</td>\n",
       "      <td>46552</td>\n",
       "      <td>5062</td>\n",
       "      <td>2501</td>\n",
       "      <td>4017</td>\n",
       "      <td>11580</td>\n",
       "      <td>80.079818</td>\n",
       "    </tr>\n",
       "    <tr>\n",
       "      <th>1275</th>\n",
       "      <td>8a4d4dd2-98d6-47dc-88ec-d08f07d32968_Basecall_...</td>\n",
       "      <td>8a4d4dd2-98d6-47dc-88ec-d08f07d32968</td>\n",
       "      <td>61892</td>\n",
       "      <td>65220</td>\n",
       "      <td>82</td>\n",
       "      <td>54270</td>\n",
       "      <td>6215</td>\n",
       "      <td>1325</td>\n",
       "      <td>4735</td>\n",
       "      <td>12275</td>\n",
       "      <td>81.553836</td>\n",
       "    </tr>\n",
       "    <tr>\n",
       "      <th>1336</th>\n",
       "      <td>b4d2a3e7-ab6a-402d-b90e-9825433c89bb_Basecall_...</td>\n",
       "      <td>b4d2a3e7-ab6a-402d-b90e-9825433c89bb</td>\n",
       "      <td>79174</td>\n",
       "      <td>84045</td>\n",
       "      <td>86</td>\n",
       "      <td>65266</td>\n",
       "      <td>10250</td>\n",
       "      <td>3572</td>\n",
       "      <td>8529</td>\n",
       "      <td>22351</td>\n",
       "      <td>74.490110</td>\n",
       "    </tr>\n",
       "    <tr>\n",
       "      <th>1566</th>\n",
       "      <td>2f2dd504-b978-4901-b9a6-a039e7374e33_Basecall_...</td>\n",
       "      <td>2f2dd504-b978-4901-b9a6-a039e7374e33</td>\n",
       "      <td>56123</td>\n",
       "      <td>57052</td>\n",
       "      <td>3156</td>\n",
       "      <td>46738</td>\n",
       "      <td>4961</td>\n",
       "      <td>1268</td>\n",
       "      <td>5353</td>\n",
       "      <td>11582</td>\n",
       "      <td>80.140604</td>\n",
       "    </tr>\n",
       "    <tr>\n",
       "      <th>1743</th>\n",
       "      <td>94a6742f-fbd1-4673-8df2-3ce4fd2545e9_Basecall_...</td>\n",
       "      <td>94a6742f-fbd1-4673-8df2-3ce4fd2545e9</td>\n",
       "      <td>52023</td>\n",
       "      <td>46710</td>\n",
       "      <td>7302</td>\n",
       "      <td>41243</td>\n",
       "      <td>2256</td>\n",
       "      <td>1222</td>\n",
       "      <td>3211</td>\n",
       "      <td>6689</td>\n",
       "      <td>86.044813</td>\n",
       "    </tr>\n",
       "    <tr>\n",
       "      <th>1990</th>\n",
       "      <td>21abe28c-b9f7-4b3f-b520-6f118b5f25cb_Basecall_...</td>\n",
       "      <td>21abe28c-b9f7-4b3f-b520-6f118b5f25cb</td>\n",
       "      <td>50474</td>\n",
       "      <td>51955</td>\n",
       "      <td>73</td>\n",
       "      <td>45220</td>\n",
       "      <td>3268</td>\n",
       "      <td>1913</td>\n",
       "      <td>3467</td>\n",
       "      <td>8648</td>\n",
       "      <td>83.945942</td>\n",
       "    </tr>\n",
       "    <tr>\n",
       "      <th>2450</th>\n",
       "      <td>b56c9754-a6c9-4ff3-acf5-3e05d21784ec_Basecall_...</td>\n",
       "      <td>b56c9754-a6c9-4ff3-acf5-3e05d21784ec</td>\n",
       "      <td>51582</td>\n",
       "      <td>53055</td>\n",
       "      <td>249</td>\n",
       "      <td>45500</td>\n",
       "      <td>3913</td>\n",
       "      <td>1920</td>\n",
       "      <td>3642</td>\n",
       "      <td>9475</td>\n",
       "      <td>82.764893</td>\n",
       "    </tr>\n",
       "    <tr>\n",
       "      <th>2472</th>\n",
       "      <td>561f2307-6068-419d-a92e-0cd6a4affa9c_Basecall_...</td>\n",
       "      <td>561f2307-6068-419d-a92e-0cd6a4affa9c</td>\n",
       "      <td>50733</td>\n",
       "      <td>47703</td>\n",
       "      <td>5876</td>\n",
       "      <td>39454</td>\n",
       "      <td>3955</td>\n",
       "      <td>1448</td>\n",
       "      <td>4294</td>\n",
       "      <td>9697</td>\n",
       "      <td>80.271002</td>\n",
       "    </tr>\n",
       "    <tr>\n",
       "      <th>2536</th>\n",
       "      <td>acaea5bb-1a04-4951-ac0f-427a44c88600_Basecall_...</td>\n",
       "      <td>acaea5bb-1a04-4951-ac0f-427a44c88600</td>\n",
       "      <td>55065</td>\n",
       "      <td>56467</td>\n",
       "      <td>78</td>\n",
       "      <td>49621</td>\n",
       "      <td>3258</td>\n",
       "      <td>2108</td>\n",
       "      <td>3588</td>\n",
       "      <td>8954</td>\n",
       "      <td>84.713615</td>\n",
       "    </tr>\n",
       "    <tr>\n",
       "      <th>3151</th>\n",
       "      <td>55ac9a42-3bae-48e7-9fed-ad09835f1d6c_Basecall_...</td>\n",
       "      <td>55ac9a42-3bae-48e7-9fed-ad09835f1d6c</td>\n",
       "      <td>55425</td>\n",
       "      <td>57435</td>\n",
       "      <td>83</td>\n",
       "      <td>50380</td>\n",
       "      <td>3150</td>\n",
       "      <td>1812</td>\n",
       "      <td>3905</td>\n",
       "      <td>8867</td>\n",
       "      <td>85.033841</td>\n",
       "    </tr>\n",
       "    <tr>\n",
       "      <th>3256</th>\n",
       "      <td>bbb1722b-4d61-485a-ae9a-ee2eaf8c831f_Basecall_...</td>\n",
       "      <td>bbb1722b-4d61-485a-ae9a-ee2eaf8c831f</td>\n",
       "      <td>50672</td>\n",
       "      <td>52523</td>\n",
       "      <td>312</td>\n",
       "      <td>45215</td>\n",
       "      <td>3363</td>\n",
       "      <td>1782</td>\n",
       "      <td>3945</td>\n",
       "      <td>9090</td>\n",
       "      <td>83.261210</td>\n",
       "    </tr>\n",
       "    <tr>\n",
       "      <th>3435</th>\n",
       "      <td>8d085781-c341-4faa-962a-5a9b4901b922_Basecall_...</td>\n",
       "      <td>8d085781-c341-4faa-962a-5a9b4901b922</td>\n",
       "      <td>58314</td>\n",
       "      <td>40009</td>\n",
       "      <td>20998</td>\n",
       "      <td>32894</td>\n",
       "      <td>3285</td>\n",
       "      <td>1137</td>\n",
       "      <td>3830</td>\n",
       "      <td>8252</td>\n",
       "      <td>79.944588</td>\n",
       "    </tr>\n",
       "    <tr>\n",
       "      <th>3534</th>\n",
       "      <td>82928079-b798-4930-b0f1-e1cf0723b03f_Basecall_...</td>\n",
       "      <td>82928079-b798-4930-b0f1-e1cf0723b03f</td>\n",
       "      <td>74998</td>\n",
       "      <td>79013</td>\n",
       "      <td>78</td>\n",
       "      <td>68758</td>\n",
       "      <td>4221</td>\n",
       "      <td>1941</td>\n",
       "      <td>6034</td>\n",
       "      <td>12196</td>\n",
       "      <td>84.934654</td>\n",
       "    </tr>\n",
       "    <tr>\n",
       "      <th>3735</th>\n",
       "      <td>7fa96a9a-ef6c-429f-8998-3ace05ec31ef_Basecall_...</td>\n",
       "      <td>7fa96a9a-ef6c-429f-8998-3ace05ec31ef</td>\n",
       "      <td>65101</td>\n",
       "      <td>67814</td>\n",
       "      <td>87</td>\n",
       "      <td>45309</td>\n",
       "      <td>17382</td>\n",
       "      <td>2323</td>\n",
       "      <td>5123</td>\n",
       "      <td>24828</td>\n",
       "      <td>64.600710</td>\n",
       "    </tr>\n",
       "    <tr>\n",
       "      <th>3767</th>\n",
       "      <td>e22a5bee-9770-4ab9-9186-2a85d930bba9_Basecall_...</td>\n",
       "      <td>e22a5bee-9770-4ab9-9186-2a85d930bba9</td>\n",
       "      <td>58225</td>\n",
       "      <td>61410</td>\n",
       "      <td>63</td>\n",
       "      <td>52136</td>\n",
       "      <td>4094</td>\n",
       "      <td>1932</td>\n",
       "      <td>5180</td>\n",
       "      <td>11206</td>\n",
       "      <td>82.308737</td>\n",
       "    </tr>\n",
       "    <tr>\n",
       "      <th>3877</th>\n",
       "      <td>82167058-a6ab-477b-b12f-cdc3cfd2025b_Basecall_...</td>\n",
       "      <td>82167058-a6ab-477b-b12f-cdc3cfd2025b</td>\n",
       "      <td>52795</td>\n",
       "      <td>55017</td>\n",
       "      <td>83</td>\n",
       "      <td>49494</td>\n",
       "      <td>2143</td>\n",
       "      <td>1075</td>\n",
       "      <td>3380</td>\n",
       "      <td>6598</td>\n",
       "      <td>88.237182</td>\n",
       "    </tr>\n",
       "    <tr>\n",
       "      <th>4239</th>\n",
       "      <td>1feff927-b625-4dd0-ad44-92bd82e2addb_Basecall_...</td>\n",
       "      <td>1feff927-b625-4dd0-ad44-92bd82e2addb</td>\n",
       "      <td>55364</td>\n",
       "      <td>58653</td>\n",
       "      <td>84</td>\n",
       "      <td>50254</td>\n",
       "      <td>3564</td>\n",
       "      <td>1462</td>\n",
       "      <td>4835</td>\n",
       "      <td>9861</td>\n",
       "      <td>83.596440</td>\n",
       "    </tr>\n",
       "    <tr>\n",
       "      <th>4266</th>\n",
       "      <td>4f4a3b03-75b0-494e-96a4-8d2267a5d59e_Basecall_...</td>\n",
       "      <td>4f4a3b03-75b0-494e-96a4-8d2267a5d59e</td>\n",
       "      <td>51700</td>\n",
       "      <td>53351</td>\n",
       "      <td>89</td>\n",
       "      <td>47257</td>\n",
       "      <td>2622</td>\n",
       "      <td>1732</td>\n",
       "      <td>3472</td>\n",
       "      <td>7826</td>\n",
       "      <td>85.792350</td>\n",
       "    </tr>\n",
       "    <tr>\n",
       "      <th>4492</th>\n",
       "      <td>a0115a13-05b3-49a0-936d-f0ef1636a25c_Basecall_...</td>\n",
       "      <td>a0115a13-05b3-49a0-936d-f0ef1636a25c</td>\n",
       "      <td>53174</td>\n",
       "      <td>47512</td>\n",
       "      <td>11101</td>\n",
       "      <td>26521</td>\n",
       "      <td>14553</td>\n",
       "      <td>999</td>\n",
       "      <td>6438</td>\n",
       "      <td>21990</td>\n",
       "      <td>54.670075</td>\n",
       "    </tr>\n",
       "    <tr>\n",
       "      <th>4762</th>\n",
       "      <td>0b6f8878-2436-4b09-aba0-bf307b7a7430_Basecall_...</td>\n",
       "      <td>0b6f8878-2436-4b09-aba0-bf307b7a7430</td>\n",
       "      <td>58795</td>\n",
       "      <td>61135</td>\n",
       "      <td>69</td>\n",
       "      <td>53028</td>\n",
       "      <td>3825</td>\n",
       "      <td>1873</td>\n",
       "      <td>4282</td>\n",
       "      <td>9980</td>\n",
       "      <td>84.160741</td>\n",
       "    </tr>\n",
       "    <tr>\n",
       "      <th>5050</th>\n",
       "      <td>d70e911f-25e9-4708-82e8-cac51b4d6945_Basecall_...</td>\n",
       "      <td>d70e911f-25e9-4708-82e8-cac51b4d6945</td>\n",
       "      <td>53136</td>\n",
       "      <td>33015</td>\n",
       "      <td>21000</td>\n",
       "      <td>28233</td>\n",
       "      <td>2752</td>\n",
       "      <td>1151</td>\n",
       "      <td>2030</td>\n",
       "      <td>5933</td>\n",
       "      <td>82.634783</td>\n",
       "    </tr>\n",
       "    <tr>\n",
       "      <th>5291</th>\n",
       "      <td>529bbcb8-648e-4fd9-958c-df4b904c9d4f_Basecall_...</td>\n",
       "      <td>529bbcb8-648e-4fd9-958c-df4b904c9d4f</td>\n",
       "      <td>54421</td>\n",
       "      <td>50474</td>\n",
       "      <td>7471</td>\n",
       "      <td>24292</td>\n",
       "      <td>21475</td>\n",
       "      <td>1183</td>\n",
       "      <td>4707</td>\n",
       "      <td>27365</td>\n",
       "      <td>47.025573</td>\n",
       "    </tr>\n",
       "    <tr>\n",
       "      <th>6667</th>\n",
       "      <td>a1c7c427-f7a8-4893-b7fb-155b2463dfce_Basecall_...</td>\n",
       "      <td>a1c7c427-f7a8-4893-b7fb-155b2463dfce</td>\n",
       "      <td>57188</td>\n",
       "      <td>60700</td>\n",
       "      <td>73</td>\n",
       "      <td>48152</td>\n",
       "      <td>6621</td>\n",
       "      <td>2342</td>\n",
       "      <td>5927</td>\n",
       "      <td>14890</td>\n",
       "      <td>76.380825</td>\n",
       "    </tr>\n",
       "    <tr>\n",
       "      <th>7243</th>\n",
       "      <td>b3000aea-a111-47b3-90b4-fd16f8ce860a_Basecall_...</td>\n",
       "      <td>b3000aea-a111-47b3-90b4-fd16f8ce860a</td>\n",
       "      <td>53585</td>\n",
       "      <td>56066</td>\n",
       "      <td>85</td>\n",
       "      <td>35352</td>\n",
       "      <td>16385</td>\n",
       "      <td>1763</td>\n",
       "      <td>4329</td>\n",
       "      <td>22477</td>\n",
       "      <td>61.131958</td>\n",
       "    </tr>\n",
       "    <tr>\n",
       "      <th>7432</th>\n",
       "      <td>cdeb43fa-edee-4456-b2b3-e53d298c442c_Basecall_...</td>\n",
       "      <td>cdeb43fa-edee-4456-b2b3-e53d298c442c</td>\n",
       "      <td>51768</td>\n",
       "      <td>55093</td>\n",
       "      <td>62</td>\n",
       "      <td>43353</td>\n",
       "      <td>5909</td>\n",
       "      <td>2444</td>\n",
       "      <td>5831</td>\n",
       "      <td>14184</td>\n",
       "      <td>75.348037</td>\n",
       "    </tr>\n",
       "    <tr>\n",
       "      <th>9008</th>\n",
       "      <td>f53755ff-ff48-4f99-ac9a-d330d39b305f_Basecall_...</td>\n",
       "      <td>f53755ff-ff48-4f99-ac9a-d330d39b305f</td>\n",
       "      <td>56270</td>\n",
       "      <td>30838</td>\n",
       "      <td>26595</td>\n",
       "      <td>25454</td>\n",
       "      <td>2916</td>\n",
       "      <td>1305</td>\n",
       "      <td>2468</td>\n",
       "      <td>6689</td>\n",
       "      <td>79.189870</td>\n",
       "    </tr>\n",
       "    <tr>\n",
       "      <th>9961</th>\n",
       "      <td>0522f8d0-78ad-4586-9578-e089f06d6215_Basecall_...</td>\n",
       "      <td>0522f8d0-78ad-4586-9578-e089f06d6215</td>\n",
       "      <td>65339</td>\n",
       "      <td>68732</td>\n",
       "      <td>142</td>\n",
       "      <td>59593</td>\n",
       "      <td>3711</td>\n",
       "      <td>1893</td>\n",
       "      <td>5428</td>\n",
       "      <td>11032</td>\n",
       "      <td>84.379469</td>\n",
       "    </tr>\n",
       "    <tr>\n",
       "      <th>10998</th>\n",
       "      <td>20dcc572-221c-4f24-bc28-984325fc0f48_Basecall_...</td>\n",
       "      <td>20dcc572-221c-4f24-bc28-984325fc0f48</td>\n",
       "      <td>80047</td>\n",
       "      <td>83750</td>\n",
       "      <td>79</td>\n",
       "      <td>70085</td>\n",
       "      <td>7402</td>\n",
       "      <td>2481</td>\n",
       "      <td>6263</td>\n",
       "      <td>16146</td>\n",
       "      <td>81.275875</td>\n",
       "    </tr>\n",
       "    <tr>\n",
       "      <th>11231</th>\n",
       "      <td>904649a8-1149-4733-b146-3a8ff65b3f56_Basecall_...</td>\n",
       "      <td>904649a8-1149-4733-b146-3a8ff65b3f56</td>\n",
       "      <td>54863</td>\n",
       "      <td>57604</td>\n",
       "      <td>76</td>\n",
       "      <td>49608</td>\n",
       "      <td>3514</td>\n",
       "      <td>1665</td>\n",
       "      <td>4482</td>\n",
       "      <td>9661</td>\n",
       "      <td>83.699742</td>\n",
       "    </tr>\n",
       "    <tr>\n",
       "      <th>11506</th>\n",
       "      <td>544384d4-398c-4dcd-955f-ceb3a3cb13b3_Basecall_...</td>\n",
       "      <td>544384d4-398c-4dcd-955f-ceb3a3cb13b3</td>\n",
       "      <td>54331</td>\n",
       "      <td>6656</td>\n",
       "      <td>47600</td>\n",
       "      <td>5643</td>\n",
       "      <td>619</td>\n",
       "      <td>469</td>\n",
       "      <td>394</td>\n",
       "      <td>1482</td>\n",
       "      <td>79.200000</td>\n",
       "    </tr>\n",
       "    <tr>\n",
       "      <th>12392</th>\n",
       "      <td>498e8fb6-cc42-4c39-83a7-401a809c7964_Basecall_...</td>\n",
       "      <td>498e8fb6-cc42-4c39-83a7-401a809c7964</td>\n",
       "      <td>50367</td>\n",
       "      <td>52325</td>\n",
       "      <td>79</td>\n",
       "      <td>44432</td>\n",
       "      <td>3882</td>\n",
       "      <td>1974</td>\n",
       "      <td>4011</td>\n",
       "      <td>9867</td>\n",
       "      <td>81.828395</td>\n",
       "    </tr>\n",
       "    <tr>\n",
       "      <th>12698</th>\n",
       "      <td>14e0a61d-1b22-41e6-9d16-f02ad4d92103_Basecall_...</td>\n",
       "      <td>14e0a61d-1b22-41e6-9d16-f02ad4d92103</td>\n",
       "      <td>54421</td>\n",
       "      <td>37303</td>\n",
       "      <td>18774</td>\n",
       "      <td>32121</td>\n",
       "      <td>2361</td>\n",
       "      <td>1165</td>\n",
       "      <td>2821</td>\n",
       "      <td>6347</td>\n",
       "      <td>83.500572</td>\n",
       "    </tr>\n",
       "    <tr>\n",
       "      <th>14037</th>\n",
       "      <td>5199f9e4-c7ca-4b2e-b00e-cb7cba80dd92_Basecall_...</td>\n",
       "      <td>5199f9e4-c7ca-4b2e-b00e-cb7cba80dd92</td>\n",
       "      <td>52056</td>\n",
       "      <td>55723</td>\n",
       "      <td>52</td>\n",
       "      <td>47257</td>\n",
       "      <td>3483</td>\n",
       "      <td>1264</td>\n",
       "      <td>4983</td>\n",
       "      <td>9730</td>\n",
       "      <td>82.925930</td>\n",
       "    </tr>\n",
       "    <tr>\n",
       "      <th>14516</th>\n",
       "      <td>763994a7-591c-4fba-93c8-718dafacfab7_Basecall_...</td>\n",
       "      <td>763994a7-591c-4fba-93c8-718dafacfab7</td>\n",
       "      <td>52202</td>\n",
       "      <td>53582</td>\n",
       "      <td>89</td>\n",
       "      <td>47561</td>\n",
       "      <td>2783</td>\n",
       "      <td>1769</td>\n",
       "      <td>3238</td>\n",
       "      <td>7790</td>\n",
       "      <td>85.926180</td>\n",
       "    </tr>\n",
       "    <tr>\n",
       "      <th>15080</th>\n",
       "      <td>041d7e5b-b1d0-4e8a-aa18-6d6ed24e7e2a_Basecall_...</td>\n",
       "      <td>041d7e5b-b1d0-4e8a-aa18-6d6ed24e7e2a</td>\n",
       "      <td>50733</td>\n",
       "      <td>53021</td>\n",
       "      <td>79</td>\n",
       "      <td>44457</td>\n",
       "      <td>3957</td>\n",
       "      <td>2240</td>\n",
       "      <td>4607</td>\n",
       "      <td>10804</td>\n",
       "      <td>80.449141</td>\n",
       "    </tr>\n",
       "    <tr>\n",
       "      <th>15543</th>\n",
       "      <td>2434afe6-cc29-43fb-9baa-48fd7c88d981_Basecall_...</td>\n",
       "      <td>2434afe6-cc29-43fb-9baa-48fd7c88d981</td>\n",
       "      <td>80136</td>\n",
       "      <td>62854</td>\n",
       "      <td>20109</td>\n",
       "      <td>54567</td>\n",
       "      <td>3699</td>\n",
       "      <td>1761</td>\n",
       "      <td>4588</td>\n",
       "      <td>10048</td>\n",
       "      <td>84.449431</td>\n",
       "    </tr>\n",
       "    <tr>\n",
       "      <th>15627</th>\n",
       "      <td>1ba7982b-00df-4a76-ab50-097066a11d32_Basecall_...</td>\n",
       "      <td>1ba7982b-00df-4a76-ab50-097066a11d32</td>\n",
       "      <td>56444</td>\n",
       "      <td>50197</td>\n",
       "      <td>8239</td>\n",
       "      <td>43656</td>\n",
       "      <td>2815</td>\n",
       "      <td>1734</td>\n",
       "      <td>3726</td>\n",
       "      <td>8275</td>\n",
       "      <td>84.065394</td>\n",
       "    </tr>\n",
       "    <tr>\n",
       "      <th>16257</th>\n",
       "      <td>2f57674b-a1b7-4430-bc8d-13f41de0a621_Basecall_...</td>\n",
       "      <td>2f57674b-a1b7-4430-bc8d-13f41de0a621</td>\n",
       "      <td>52694</td>\n",
       "      <td>55291</td>\n",
       "      <td>43</td>\n",
       "      <td>48567</td>\n",
       "      <td>2720</td>\n",
       "      <td>1364</td>\n",
       "      <td>4004</td>\n",
       "      <td>8088</td>\n",
       "      <td>85.724120</td>\n",
       "    </tr>\n",
       "    <tr>\n",
       "      <th>16283</th>\n",
       "      <td>03ac947e-bf8d-4001-811b-d6b09f072049_Basecall_...</td>\n",
       "      <td>03ac947e-bf8d-4001-811b-d6b09f072049</td>\n",
       "      <td>55500</td>\n",
       "      <td>57871</td>\n",
       "      <td>80</td>\n",
       "      <td>50468</td>\n",
       "      <td>3314</td>\n",
       "      <td>1638</td>\n",
       "      <td>4089</td>\n",
       "      <td>9041</td>\n",
       "      <td>84.807340</td>\n",
       "    </tr>\n",
       "    <tr>\n",
       "      <th>16681</th>\n",
       "      <td>ed4e6887-406b-4544-8d68-c66f8ab99903_Basecall_...</td>\n",
       "      <td>ed4e6887-406b-4544-8d68-c66f8ab99903</td>\n",
       "      <td>58929</td>\n",
       "      <td>61856</td>\n",
       "      <td>84</td>\n",
       "      <td>48963</td>\n",
       "      <td>6952</td>\n",
       "      <td>2930</td>\n",
       "      <td>5941</td>\n",
       "      <td>15823</td>\n",
       "      <td>75.576513</td>\n",
       "    </tr>\n",
       "    <tr>\n",
       "      <th>17000</th>\n",
       "      <td>b9069327-b392-42f5-9e78-98faed739b1d_Basecall_...</td>\n",
       "      <td>b9069327-b392-42f5-9e78-98faed739b1d</td>\n",
       "      <td>63952</td>\n",
       "      <td>67538</td>\n",
       "      <td>72</td>\n",
       "      <td>57556</td>\n",
       "      <td>4551</td>\n",
       "      <td>1773</td>\n",
       "      <td>5431</td>\n",
       "      <td>11755</td>\n",
       "      <td>83.040210</td>\n",
       "    </tr>\n",
       "    <tr>\n",
       "      <th>17357</th>\n",
       "      <td>ab6e41c0-39c9-48f9-8b13-28fb1923a4f1_Basecall_...</td>\n",
       "      <td>ab6e41c0-39c9-48f9-8b13-28fb1923a4f1</td>\n",
       "      <td>61923</td>\n",
       "      <td>64449</td>\n",
       "      <td>56</td>\n",
       "      <td>53698</td>\n",
       "      <td>5344</td>\n",
       "      <td>2825</td>\n",
       "      <td>5407</td>\n",
       "      <td>13576</td>\n",
       "      <td>79.819841</td>\n",
       "    </tr>\n",
       "    <tr>\n",
       "      <th>17643</th>\n",
       "      <td>bc990aa5-152c-4782-9903-f93c11954d2f_Basecall_...</td>\n",
       "      <td>bc990aa5-152c-4782-9903-f93c11954d2f</td>\n",
       "      <td>50771</td>\n",
       "      <td>52851</td>\n",
       "      <td>72</td>\n",
       "      <td>45861</td>\n",
       "      <td>3215</td>\n",
       "      <td>1623</td>\n",
       "      <td>3775</td>\n",
       "      <td>8613</td>\n",
       "      <td>84.188787</td>\n",
       "    </tr>\n",
       "    <tr>\n",
       "      <th>17718</th>\n",
       "      <td>4a166593-c2a9-4fcf-8317-b78f695d6f1f_Basecall_...</td>\n",
       "      <td>4a166593-c2a9-4fcf-8317-b78f695d6f1f</td>\n",
       "      <td>51385</td>\n",
       "      <td>53772</td>\n",
       "      <td>79</td>\n",
       "      <td>46245</td>\n",
       "      <td>3393</td>\n",
       "      <td>1668</td>\n",
       "      <td>4134</td>\n",
       "      <td>9195</td>\n",
       "      <td>83.414502</td>\n",
       "    </tr>\n",
       "    <tr>\n",
       "      <th>18121</th>\n",
       "      <td>f4d633f3-0c28-444d-94fa-93debbf5b6c2_Basecall_...</td>\n",
       "      <td>f4d633f3-0c28-444d-94fa-93debbf5b6c2</td>\n",
       "      <td>61251</td>\n",
       "      <td>63040</td>\n",
       "      <td>77</td>\n",
       "      <td>55708</td>\n",
       "      <td>3302</td>\n",
       "      <td>2164</td>\n",
       "      <td>4030</td>\n",
       "      <td>9496</td>\n",
       "      <td>85.436476</td>\n",
       "    </tr>\n",
       "    <tr>\n",
       "      <th>18181</th>\n",
       "      <td>4bf44ac8-e690-4098-9ac9-b3759761d7ea_Basecall_...</td>\n",
       "      <td>4bf44ac8-e690-4098-9ac9-b3759761d7ea</td>\n",
       "      <td>50735</td>\n",
       "      <td>41696</td>\n",
       "      <td>11012</td>\n",
       "      <td>34756</td>\n",
       "      <td>3676</td>\n",
       "      <td>1291</td>\n",
       "      <td>3264</td>\n",
       "      <td>8231</td>\n",
       "      <td>80.852351</td>\n",
       "    </tr>\n",
       "    <tr>\n",
       "      <th>18703</th>\n",
       "      <td>c3469f76-9040-4a0a-9153-bf609f452753_Basecall_...</td>\n",
       "      <td>c3469f76-9040-4a0a-9153-bf609f452753</td>\n",
       "      <td>57577</td>\n",
       "      <td>31261</td>\n",
       "      <td>27767</td>\n",
       "      <td>26140</td>\n",
       "      <td>2588</td>\n",
       "      <td>1082</td>\n",
       "      <td>2533</td>\n",
       "      <td>6203</td>\n",
       "      <td>80.821198</td>\n",
       "    </tr>\n",
       "    <tr>\n",
       "      <th>19438</th>\n",
       "      <td>c9c1186a-f97a-4845-a3fa-e7c6fe6caa3c_Basecall_...</td>\n",
       "      <td>c9c1186a-f97a-4845-a3fa-e7c6fe6caa3c</td>\n",
       "      <td>54536</td>\n",
       "      <td>57902</td>\n",
       "      <td>77</td>\n",
       "      <td>49614</td>\n",
       "      <td>3498</td>\n",
       "      <td>1347</td>\n",
       "      <td>4790</td>\n",
       "      <td>9635</td>\n",
       "      <td>83.738122</td>\n",
       "    </tr>\n",
       "    <tr>\n",
       "      <th>20091</th>\n",
       "      <td>4339fa93-ba81-48a1-bc56-fd471585f665_Basecall_...</td>\n",
       "      <td>4339fa93-ba81-48a1-bc56-fd471585f665</td>\n",
       "      <td>67036</td>\n",
       "      <td>69933</td>\n",
       "      <td>94</td>\n",
       "      <td>61122</td>\n",
       "      <td>3874</td>\n",
       "      <td>1946</td>\n",
       "      <td>4937</td>\n",
       "      <td>10757</td>\n",
       "      <td>85.034572</td>\n",
       "    </tr>\n",
       "    <tr>\n",
       "      <th>21177</th>\n",
       "      <td>cee403b6-e01c-478d-8bd3-0419f085325d_Basecall_...</td>\n",
       "      <td>cee403b6-e01c-478d-8bd3-0419f085325d</td>\n",
       "      <td>53366</td>\n",
       "      <td>43247</td>\n",
       "      <td>12118</td>\n",
       "      <td>33586</td>\n",
       "      <td>5428</td>\n",
       "      <td>2234</td>\n",
       "      <td>4233</td>\n",
       "      <td>11895</td>\n",
       "      <td>73.846221</td>\n",
       "    </tr>\n",
       "    <tr>\n",
       "      <th>21273</th>\n",
       "      <td>1d43787d-a9a4-451e-8831-5940b4e90b20_Basecall_...</td>\n",
       "      <td>1d43787d-a9a4-451e-8831-5940b4e90b20</td>\n",
       "      <td>61688</td>\n",
       "      <td>34146</td>\n",
       "      <td>27923</td>\n",
       "      <td>29978</td>\n",
       "      <td>2216</td>\n",
       "      <td>1571</td>\n",
       "      <td>1952</td>\n",
       "      <td>5739</td>\n",
       "      <td>83.932021</td>\n",
       "    </tr>\n",
       "    <tr>\n",
       "      <th>22390</th>\n",
       "      <td>1d6d001c-badc-4e17-ade8-8f93b43ad4cf_Basecall_...</td>\n",
       "      <td>1d6d001c-badc-4e17-ade8-8f93b43ad4cf</td>\n",
       "      <td>57124</td>\n",
       "      <td>37436</td>\n",
       "      <td>21806</td>\n",
       "      <td>30098</td>\n",
       "      <td>3657</td>\n",
       "      <td>1563</td>\n",
       "      <td>3681</td>\n",
       "      <td>8901</td>\n",
       "      <td>77.176338</td>\n",
       "    </tr>\n",
       "    <tr>\n",
       "      <th>22709</th>\n",
       "      <td>59e2a62c-9a68-4641-bc95-f5306ea82d1b_Basecall_...</td>\n",
       "      <td>59e2a62c-9a68-4641-bc95-f5306ea82d1b</td>\n",
       "      <td>51072</td>\n",
       "      <td>20861</td>\n",
       "      <td>31675</td>\n",
       "      <td>17009</td>\n",
       "      <td>1681</td>\n",
       "      <td>707</td>\n",
       "      <td>2171</td>\n",
       "      <td>4559</td>\n",
       "      <td>78.862203</td>\n",
       "    </tr>\n",
       "  </tbody>\n",
       "</table>\n",
       "</div>"
      ],
      "text/plain": [
       "                                                   query  \\\n",
       "448    b112c75e-4b01-4d74-b092-ab342bc69a9c_Basecall_...   \n",
       "1124   a66f08ee-3d99-47be-bb99-644c17bfe264_Basecall_...   \n",
       "1275   8a4d4dd2-98d6-47dc-88ec-d08f07d32968_Basecall_...   \n",
       "1336   b4d2a3e7-ab6a-402d-b90e-9825433c89bb_Basecall_...   \n",
       "1566   2f2dd504-b978-4901-b9a6-a039e7374e33_Basecall_...   \n",
       "1743   94a6742f-fbd1-4673-8df2-3ce4fd2545e9_Basecall_...   \n",
       "1990   21abe28c-b9f7-4b3f-b520-6f118b5f25cb_Basecall_...   \n",
       "2450   b56c9754-a6c9-4ff3-acf5-3e05d21784ec_Basecall_...   \n",
       "2472   561f2307-6068-419d-a92e-0cd6a4affa9c_Basecall_...   \n",
       "2536   acaea5bb-1a04-4951-ac0f-427a44c88600_Basecall_...   \n",
       "3151   55ac9a42-3bae-48e7-9fed-ad09835f1d6c_Basecall_...   \n",
       "3256   bbb1722b-4d61-485a-ae9a-ee2eaf8c831f_Basecall_...   \n",
       "3435   8d085781-c341-4faa-962a-5a9b4901b922_Basecall_...   \n",
       "3534   82928079-b798-4930-b0f1-e1cf0723b03f_Basecall_...   \n",
       "3735   7fa96a9a-ef6c-429f-8998-3ace05ec31ef_Basecall_...   \n",
       "3767   e22a5bee-9770-4ab9-9186-2a85d930bba9_Basecall_...   \n",
       "3877   82167058-a6ab-477b-b12f-cdc3cfd2025b_Basecall_...   \n",
       "4239   1feff927-b625-4dd0-ad44-92bd82e2addb_Basecall_...   \n",
       "4266   4f4a3b03-75b0-494e-96a4-8d2267a5d59e_Basecall_...   \n",
       "4492   a0115a13-05b3-49a0-936d-f0ef1636a25c_Basecall_...   \n",
       "4762   0b6f8878-2436-4b09-aba0-bf307b7a7430_Basecall_...   \n",
       "5050   d70e911f-25e9-4708-82e8-cac51b4d6945_Basecall_...   \n",
       "5291   529bbcb8-648e-4fd9-958c-df4b904c9d4f_Basecall_...   \n",
       "6667   a1c7c427-f7a8-4893-b7fb-155b2463dfce_Basecall_...   \n",
       "7243   b3000aea-a111-47b3-90b4-fd16f8ce860a_Basecall_...   \n",
       "7432   cdeb43fa-edee-4456-b2b3-e53d298c442c_Basecall_...   \n",
       "9008   f53755ff-ff48-4f99-ac9a-d330d39b305f_Basecall_...   \n",
       "9961   0522f8d0-78ad-4586-9578-e089f06d6215_Basecall_...   \n",
       "10998  20dcc572-221c-4f24-bc28-984325fc0f48_Basecall_...   \n",
       "11231  904649a8-1149-4733-b146-3a8ff65b3f56_Basecall_...   \n",
       "11506  544384d4-398c-4dcd-955f-ceb3a3cb13b3_Basecall_...   \n",
       "12392  498e8fb6-cc42-4c39-83a7-401a809c7964_Basecall_...   \n",
       "12698  14e0a61d-1b22-41e6-9d16-f02ad4d92103_Basecall_...   \n",
       "14037  5199f9e4-c7ca-4b2e-b00e-cb7cba80dd92_Basecall_...   \n",
       "14516  763994a7-591c-4fba-93c8-718dafacfab7_Basecall_...   \n",
       "15080  041d7e5b-b1d0-4e8a-aa18-6d6ed24e7e2a_Basecall_...   \n",
       "15543  2434afe6-cc29-43fb-9baa-48fd7c88d981_Basecall_...   \n",
       "15627  1ba7982b-00df-4a76-ab50-097066a11d32_Basecall_...   \n",
       "16257  2f57674b-a1b7-4430-bc8d-13f41de0a621_Basecall_...   \n",
       "16283  03ac947e-bf8d-4001-811b-d6b09f072049_Basecall_...   \n",
       "16681  ed4e6887-406b-4544-8d68-c66f8ab99903_Basecall_...   \n",
       "17000  b9069327-b392-42f5-9e78-98faed739b1d_Basecall_...   \n",
       "17357  ab6e41c0-39c9-48f9-8b13-28fb1923a4f1_Basecall_...   \n",
       "17643  bc990aa5-152c-4782-9903-f93c11954d2f_Basecall_...   \n",
       "17718  4a166593-c2a9-4fcf-8317-b78f695d6f1f_Basecall_...   \n",
       "18121  f4d633f3-0c28-444d-94fa-93debbf5b6c2_Basecall_...   \n",
       "18181  4bf44ac8-e690-4098-9ac9-b3759761d7ea_Basecall_...   \n",
       "18703  c3469f76-9040-4a0a-9153-bf609f452753_Basecall_...   \n",
       "19438  c9c1186a-f97a-4845-a3fa-e7c6fe6caa3c_Basecall_...   \n",
       "20091  4339fa93-ba81-48a1-bc56-fd471585f665_Basecall_...   \n",
       "21177  cee403b6-e01c-478d-8bd3-0419f085325d_Basecall_...   \n",
       "21273  1d43787d-a9a4-451e-8831-5940b4e90b20_Basecall_...   \n",
       "22390  1d6d001c-badc-4e17-ade8-8f93b43ad4cf_Basecall_...   \n",
       "22709  59e2a62c-9a68-4641-bc95-f5306ea82d1b_Basecall_...   \n",
       "\n",
       "                                  read_type  read_len  align_len  unalign_len  \\\n",
       "448    b112c75e-4b01-4d74-b092-ab342bc69a9c     66115      54762        12931   \n",
       "1124   a66f08ee-3d99-47be-bb99-644c17bfe264     54152      55631           37   \n",
       "1275   8a4d4dd2-98d6-47dc-88ec-d08f07d32968     61892      65220           82   \n",
       "1336   b4d2a3e7-ab6a-402d-b90e-9825433c89bb     79174      84045           86   \n",
       "1566   2f2dd504-b978-4901-b9a6-a039e7374e33     56123      57052         3156   \n",
       "1743   94a6742f-fbd1-4673-8df2-3ce4fd2545e9     52023      46710         7302   \n",
       "1990   21abe28c-b9f7-4b3f-b520-6f118b5f25cb     50474      51955           73   \n",
       "2450   b56c9754-a6c9-4ff3-acf5-3e05d21784ec     51582      53055          249   \n",
       "2472   561f2307-6068-419d-a92e-0cd6a4affa9c     50733      47703         5876   \n",
       "2536   acaea5bb-1a04-4951-ac0f-427a44c88600     55065      56467           78   \n",
       "3151   55ac9a42-3bae-48e7-9fed-ad09835f1d6c     55425      57435           83   \n",
       "3256   bbb1722b-4d61-485a-ae9a-ee2eaf8c831f     50672      52523          312   \n",
       "3435   8d085781-c341-4faa-962a-5a9b4901b922     58314      40009        20998   \n",
       "3534   82928079-b798-4930-b0f1-e1cf0723b03f     74998      79013           78   \n",
       "3735   7fa96a9a-ef6c-429f-8998-3ace05ec31ef     65101      67814           87   \n",
       "3767   e22a5bee-9770-4ab9-9186-2a85d930bba9     58225      61410           63   \n",
       "3877   82167058-a6ab-477b-b12f-cdc3cfd2025b     52795      55017           83   \n",
       "4239   1feff927-b625-4dd0-ad44-92bd82e2addb     55364      58653           84   \n",
       "4266   4f4a3b03-75b0-494e-96a4-8d2267a5d59e     51700      53351           89   \n",
       "4492   a0115a13-05b3-49a0-936d-f0ef1636a25c     53174      47512        11101   \n",
       "4762   0b6f8878-2436-4b09-aba0-bf307b7a7430     58795      61135           69   \n",
       "5050   d70e911f-25e9-4708-82e8-cac51b4d6945     53136      33015        21000   \n",
       "5291   529bbcb8-648e-4fd9-958c-df4b904c9d4f     54421      50474         7471   \n",
       "6667   a1c7c427-f7a8-4893-b7fb-155b2463dfce     57188      60700           73   \n",
       "7243   b3000aea-a111-47b3-90b4-fd16f8ce860a     53585      56066           85   \n",
       "7432   cdeb43fa-edee-4456-b2b3-e53d298c442c     51768      55093           62   \n",
       "9008   f53755ff-ff48-4f99-ac9a-d330d39b305f     56270      30838        26595   \n",
       "9961   0522f8d0-78ad-4586-9578-e089f06d6215     65339      68732          142   \n",
       "10998  20dcc572-221c-4f24-bc28-984325fc0f48     80047      83750           79   \n",
       "11231  904649a8-1149-4733-b146-3a8ff65b3f56     54863      57604           76   \n",
       "11506  544384d4-398c-4dcd-955f-ceb3a3cb13b3     54331       6656        47600   \n",
       "12392  498e8fb6-cc42-4c39-83a7-401a809c7964     50367      52325           79   \n",
       "12698  14e0a61d-1b22-41e6-9d16-f02ad4d92103     54421      37303        18774   \n",
       "14037  5199f9e4-c7ca-4b2e-b00e-cb7cba80dd92     52056      55723           52   \n",
       "14516  763994a7-591c-4fba-93c8-718dafacfab7     52202      53582           89   \n",
       "15080  041d7e5b-b1d0-4e8a-aa18-6d6ed24e7e2a     50733      53021           79   \n",
       "15543  2434afe6-cc29-43fb-9baa-48fd7c88d981     80136      62854        20109   \n",
       "15627  1ba7982b-00df-4a76-ab50-097066a11d32     56444      50197         8239   \n",
       "16257  2f57674b-a1b7-4430-bc8d-13f41de0a621     52694      55291           43   \n",
       "16283  03ac947e-bf8d-4001-811b-d6b09f072049     55500      57871           80   \n",
       "16681  ed4e6887-406b-4544-8d68-c66f8ab99903     58929      61856           84   \n",
       "17000  b9069327-b392-42f5-9e78-98faed739b1d     63952      67538           72   \n",
       "17357  ab6e41c0-39c9-48f9-8b13-28fb1923a4f1     61923      64449           56   \n",
       "17643  bc990aa5-152c-4782-9903-f93c11954d2f     50771      52851           72   \n",
       "17718  4a166593-c2a9-4fcf-8317-b78f695d6f1f     51385      53772           79   \n",
       "18121  f4d633f3-0c28-444d-94fa-93debbf5b6c2     61251      63040           77   \n",
       "18181  4bf44ac8-e690-4098-9ac9-b3759761d7ea     50735      41696        11012   \n",
       "18703  c3469f76-9040-4a0a-9153-bf609f452753     57577      31261        27767   \n",
       "19438  c9c1186a-f97a-4845-a3fa-e7c6fe6caa3c     54536      57902           77   \n",
       "20091  4339fa93-ba81-48a1-bc56-fd471585f665     67036      69933           94   \n",
       "21177  cee403b6-e01c-478d-8bd3-0419f085325d     53366      43247        12118   \n",
       "21273  1d43787d-a9a4-451e-8831-5940b4e90b20     61688      34146        27923   \n",
       "22390  1d6d001c-badc-4e17-ade8-8f93b43ad4cf     57124      37436        21806   \n",
       "22709  59e2a62c-9a68-4641-bc95-f5306ea82d1b     51072      20861        31675   \n",
       "\n",
       "       matches  mismatches  insertions  deletions  tot_errors  %Identity  \n",
       "448      47839        3343        2002       3580        8925  84.277007  \n",
       "1124     46552        5062        2501       4017       11580  80.079818  \n",
       "1275     54270        6215        1325       4735       12275  81.553836  \n",
       "1336     65266       10250        3572       8529       22351  74.490110  \n",
       "1566     46738        4961        1268       5353       11582  80.140604  \n",
       "1743     41243        2256        1222       3211        6689  86.044813  \n",
       "1990     45220        3268        1913       3467        8648  83.945942  \n",
       "2450     45500        3913        1920       3642        9475  82.764893  \n",
       "2472     39454        3955        1448       4294        9697  80.271002  \n",
       "2536     49621        3258        2108       3588        8954  84.713615  \n",
       "3151     50380        3150        1812       3905        8867  85.033841  \n",
       "3256     45215        3363        1782       3945        9090  83.261210  \n",
       "3435     32894        3285        1137       3830        8252  79.944588  \n",
       "3534     68758        4221        1941       6034       12196  84.934654  \n",
       "3735     45309       17382        2323       5123       24828  64.600710  \n",
       "3767     52136        4094        1932       5180       11206  82.308737  \n",
       "3877     49494        2143        1075       3380        6598  88.237182  \n",
       "4239     50254        3564        1462       4835        9861  83.596440  \n",
       "4266     47257        2622        1732       3472        7826  85.792350  \n",
       "4492     26521       14553         999       6438       21990  54.670075  \n",
       "4762     53028        3825        1873       4282        9980  84.160741  \n",
       "5050     28233        2752        1151       2030        5933  82.634783  \n",
       "5291     24292       21475        1183       4707       27365  47.025573  \n",
       "6667     48152        6621        2342       5927       14890  76.380825  \n",
       "7243     35352       16385        1763       4329       22477  61.131958  \n",
       "7432     43353        5909        2444       5831       14184  75.348037  \n",
       "9008     25454        2916        1305       2468        6689  79.189870  \n",
       "9961     59593        3711        1893       5428       11032  84.379469  \n",
       "10998    70085        7402        2481       6263       16146  81.275875  \n",
       "11231    49608        3514        1665       4482        9661  83.699742  \n",
       "11506     5643         619         469        394        1482  79.200000  \n",
       "12392    44432        3882        1974       4011        9867  81.828395  \n",
       "12698    32121        2361        1165       2821        6347  83.500572  \n",
       "14037    47257        3483        1264       4983        9730  82.925930  \n",
       "14516    47561        2783        1769       3238        7790  85.926180  \n",
       "15080    44457        3957        2240       4607       10804  80.449141  \n",
       "15543    54567        3699        1761       4588       10048  84.449431  \n",
       "15627    43656        2815        1734       3726        8275  84.065394  \n",
       "16257    48567        2720        1364       4004        8088  85.724120  \n",
       "16283    50468        3314        1638       4089        9041  84.807340  \n",
       "16681    48963        6952        2930       5941       15823  75.576513  \n",
       "17000    57556        4551        1773       5431       11755  83.040210  \n",
       "17357    53698        5344        2825       5407       13576  79.819841  \n",
       "17643    45861        3215        1623       3775        8613  84.188787  \n",
       "17718    46245        3393        1668       4134        9195  83.414502  \n",
       "18121    55708        3302        2164       4030        9496  85.436476  \n",
       "18181    34756        3676        1291       3264        8231  80.852351  \n",
       "18703    26140        2588        1082       2533        6203  80.821198  \n",
       "19438    49614        3498        1347       4790        9635  83.738122  \n",
       "20091    61122        3874        1946       4937       10757  85.034572  \n",
       "21177    33586        5428        2234       4233       11895  73.846221  \n",
       "21273    29978        2216        1571       1952        5739  83.932021  \n",
       "22390    30098        3657        1563       3681        8901  77.176338  \n",
       "22709    17009        1681         707       2171        4559  78.862203  "
      ]
     },
     "execution_count": 34,
     "metadata": {},
     "output_type": "execute_result"
    }
   ],
   "source": [
    "error_g20_df[error_g20_df['read_len'] > 50000]"
   ]
  },
  {
   "cell_type": "code",
   "execution_count": 16,
   "metadata": {
    "collapsed": false
   },
   "outputs": [
    {
     "data": {
      "text/html": [
       "<div>\n",
       "<table border=\"1\" class=\"dataframe\">\n",
       "  <thead>\n",
       "    <tr style=\"text-align: right;\">\n",
       "      <th></th>\n",
       "      <th>query</th>\n",
       "      <th>read_type</th>\n",
       "      <th>read_len</th>\n",
       "      <th>align_len</th>\n",
       "      <th>unalign_len</th>\n",
       "      <th>matches</th>\n",
       "      <th>mismatches</th>\n",
       "      <th>insertions</th>\n",
       "      <th>deletions</th>\n",
       "      <th>tot_errors</th>\n",
       "    </tr>\n",
       "  </thead>\n",
       "  <tbody>\n",
       "    <tr>\n",
       "      <th>0</th>\n",
       "      <td>a1d42896-3f83-42a7-854b-5e3d58d9237d_Basecall_...</td>\n",
       "      <td>a1d42896-3f83-42a7-854b-5e3d58d9237d</td>\n",
       "      <td>16842</td>\n",
       "      <td>17147</td>\n",
       "      <td>78</td>\n",
       "      <td>14353</td>\n",
       "      <td>1547</td>\n",
       "      <td>864</td>\n",
       "      <td>1247</td>\n",
       "      <td>3658</td>\n",
       "    </tr>\n",
       "    <tr>\n",
       "      <th>1</th>\n",
       "      <td>677a2294-320a-48fb-ba5a-11cf1a4c4a25_Basecall_...</td>\n",
       "      <td>677a2294-320a-48fb-ba5a-11cf1a4c4a25</td>\n",
       "      <td>12229</td>\n",
       "      <td>12860</td>\n",
       "      <td>10</td>\n",
       "      <td>10713</td>\n",
       "      <td>1019</td>\n",
       "      <td>487</td>\n",
       "      <td>1128</td>\n",
       "      <td>2634</td>\n",
       "    </tr>\n",
       "    <tr>\n",
       "      <th>2</th>\n",
       "      <td>ed11dff7-c7ec-4fa0-b983-4992bf590369_Basecall_...</td>\n",
       "      <td>ed11dff7-c7ec-4fa0-b983-4992bf590369</td>\n",
       "      <td>10701</td>\n",
       "      <td>11092</td>\n",
       "      <td>77</td>\n",
       "      <td>9618</td>\n",
       "      <td>686</td>\n",
       "      <td>320</td>\n",
       "      <td>788</td>\n",
       "      <td>1794</td>\n",
       "    </tr>\n",
       "    <tr>\n",
       "      <th>3</th>\n",
       "      <td>c23a3511-4fab-43c5-9f7f-511c049eba62_Basecall_...</td>\n",
       "      <td>c23a3511-4fab-43c5-9f7f-511c049eba62</td>\n",
       "      <td>8689</td>\n",
       "      <td>3688</td>\n",
       "      <td>5171</td>\n",
       "      <td>2896</td>\n",
       "      <td>437</td>\n",
       "      <td>185</td>\n",
       "      <td>355</td>\n",
       "      <td>977</td>\n",
       "    </tr>\n",
       "    <tr>\n",
       "      <th>4</th>\n",
       "      <td>d6d9755e-1830-4155-8868-7fd1dedbfe0a_Basecall_...</td>\n",
       "      <td>d6d9755e-1830-4155-8868-7fd1dedbfe0a</td>\n",
       "      <td>10139</td>\n",
       "      <td>8697</td>\n",
       "      <td>1489</td>\n",
       "      <td>7033</td>\n",
       "      <td>1100</td>\n",
       "      <td>517</td>\n",
       "      <td>564</td>\n",
       "      <td>2181</td>\n",
       "    </tr>\n",
       "  </tbody>\n",
       "</table>\n",
       "</div>"
      ],
      "text/plain": [
       "                                               query  \\\n",
       "0  a1d42896-3f83-42a7-854b-5e3d58d9237d_Basecall_...   \n",
       "1  677a2294-320a-48fb-ba5a-11cf1a4c4a25_Basecall_...   \n",
       "2  ed11dff7-c7ec-4fa0-b983-4992bf590369_Basecall_...   \n",
       "3  c23a3511-4fab-43c5-9f7f-511c049eba62_Basecall_...   \n",
       "4  d6d9755e-1830-4155-8868-7fd1dedbfe0a_Basecall_...   \n",
       "\n",
       "                              read_type  read_len  align_len  unalign_len  \\\n",
       "0  a1d42896-3f83-42a7-854b-5e3d58d9237d     16842      17147           78   \n",
       "1  677a2294-320a-48fb-ba5a-11cf1a4c4a25     12229      12860           10   \n",
       "2  ed11dff7-c7ec-4fa0-b983-4992bf590369     10701      11092           77   \n",
       "3  c23a3511-4fab-43c5-9f7f-511c049eba62      8689       3688         5171   \n",
       "4  d6d9755e-1830-4155-8868-7fd1dedbfe0a     10139       8697         1489   \n",
       "\n",
       "   matches  mismatches  insertions  deletions  tot_errors  \n",
       "0    14353        1547         864       1247        3658  \n",
       "1    10713        1019         487       1128        2634  \n",
       "2     9618         686         320        788        1794  \n",
       "3     2896         437         185        355         977  \n",
       "4     7033        1100         517        564        2181  "
      ]
     },
     "execution_count": 16,
     "metadata": {},
     "output_type": "execute_result"
    }
   ],
   "source": [
    "error_df.head()"
   ]
  },
  {
   "cell_type": "code",
   "execution_count": 40,
   "metadata": {
    "collapsed": true
   },
   "outputs": [],
   "source": [
    "error_df[\"%Identity\"] = (error_df['matches']/(error_df['matches']+error_df['deletions']+error_df['insertions']+error_df['mismatches'])*100)"
   ]
  },
  {
   "cell_type": "code",
   "execution_count": 41,
   "metadata": {
    "collapsed": false
   },
   "outputs": [
    {
     "data": {
      "text/plain": [
       "(20, 100)"
      ]
     },
     "execution_count": 41,
     "metadata": {},
     "output_type": "execute_result"
    },
    {
     "data": {
      "image/png": "[encoded data removed]",
      "text/plain": [
       "<matplotlib.figure.Figure at 0x1142bbb70>"
      ]
     },
     "metadata": {},
     "output_type": "display_data"
    }
   ],
   "source": [
    "error_df['%Identity'].hist(bins=30)\n",
    "plt.xlim(20,100)"
   ]
  },
  {
   "cell_type": "code",
   "execution_count": 42,
   "metadata": {
    "collapsed": false
   },
   "outputs": [
    {
     "data": {
      "text/plain": [
       "82.46075182733543"
      ]
     },
     "execution_count": 42,
     "metadata": {},
     "output_type": "execute_result"
    }
   ],
   "source": [
    "error_df['%Identity'].median()"
   ]
  },
  {
   "cell_type": "code",
   "execution_count": 43,
   "metadata": {
    "collapsed": false
   },
   "outputs": [
    {
     "data": {
      "text/plain": [
       "query          23254\n",
       "read_type      23254\n",
       "read_len       23254\n",
       "align_len      23254\n",
       "unalign_len    23254\n",
       "matches        23254\n",
       "mismatches     23254\n",
       "insertions     23254\n",
       "deletions      23254\n",
       "tot_errors     23254\n",
       "%Identity      23254\n",
       "dtype: int64"
      ]
     },
     "execution_count": 43,
     "metadata": {},
     "output_type": "execute_result"
    }
   ],
   "source": [
    "error_df.count()"
   ]
  },
  {
   "cell_type": "code",
   "execution_count": 20,
   "metadata": {
    "collapsed": false
   },
   "outputs": [
    {
     "data": {
      "text/plain": [
       "78.36176323798568"
      ]
     },
     "execution_count": 20,
     "metadata": {},
     "output_type": "execute_result"
    }
   ],
   "source": [
    "error_df['%Identity'].mean()"
   ]
  },
  {
   "cell_type": "code",
   "execution_count": 21,
   "metadata": {
    "collapsed": false
   },
   "outputs": [],
   "source": [
    "error_g20_df = error_df[error_df['%Identity'] > 20]"
   ]
  },
  {
   "cell_type": "code",
   "execution_count": 22,
   "metadata": {
    "collapsed": false
   },
   "outputs": [
    {
     "data": {
      "text/plain": [
       "82.68017380130182"
      ]
     },
     "execution_count": 22,
     "metadata": {},
     "output_type": "execute_result"
    }
   ],
   "source": [
    "error_g20_df['%Identity'].median()"
   ]
  },
  {
   "cell_type": "code",
   "execution_count": 23,
   "metadata": {
    "collapsed": false
   },
   "outputs": [
    {
     "data": {
      "text/plain": [
       "81.54127731041885"
      ]
     },
     "execution_count": 23,
     "metadata": {},
     "output_type": "execute_result"
    }
   ],
   "source": [
    "error_g20_df['%Identity'].mean()"
   ]
  },
  {
   "cell_type": "code",
   "execution_count": 24,
   "metadata": {
    "collapsed": false
   },
   "outputs": [
    {
     "data": {
      "image/png": "[encoded data removed]",
      "text/plain": [
       "<matplotlib.figure.Figure at 0x11422fcf8>"
      ]
     },
     "metadata": {},
     "output_type": "display_data"
    }
   ],
   "source": [
    "error_g20_df['%Identity'].hist(bins=30)\n",
    "plt.xlabel('%Identity')\n",
    "plt.ylabel('Count')\n",
    "plt.title('1D error rate Metichor calling')\n",
    "plt.savefig(outdir+_id+'1D_error_rate.tiff')"
   ]
  },
  {
   "cell_type": "code",
   "execution_count": 25,
   "metadata": {
    "collapsed": false
   },
   "outputs": [
    {
     "data": {
      "text/plain": [
       "22332"
      ]
     },
     "execution_count": 25,
     "metadata": {},
     "output_type": "execute_result"
    }
   ],
   "source": [
    "error_g20_df['%Identity'].count()"
   ]
  },
  {
   "cell_type": "code",
   "execution_count": 26,
   "metadata": {
    "collapsed": false
   },
   "outputs": [
    {
     "data": {
      "text/plain": [
       "23364"
      ]
     },
     "execution_count": 26,
     "metadata": {},
     "output_type": "execute_result"
    }
   ],
   "source": [
    "poretools_df[1].count()"
   ]
  },
  {
   "cell_type": "code",
   "execution_count": 27,
   "metadata": {
    "collapsed": true
   },
   "outputs": [],
   "source": [
    "pc_mapping = error_g20_df['%Identity'].count()/poretools_df[1].count()*100"
   ]
  },
  {
   "cell_type": "code",
   "execution_count": 28,
   "metadata": {
    "collapsed": false
   },
   "outputs": [
    {
     "data": {
      "text/plain": [
       "95.58294812532101"
      ]
     },
     "execution_count": 28,
     "metadata": {},
     "output_type": "execute_result"
    }
   ],
   "source": [
    "pc_mapping"
   ]
  },
  {
   "cell_type": "code",
   "execution_count": 29,
   "metadata": {
    "collapsed": false
   },
   "outputs": [
    {
     "data": {
      "text/plain": [
       "80136"
      ]
     },
     "execution_count": 29,
     "metadata": {},
     "output_type": "execute_result"
    }
   ],
   "source": [
    "error_g20_df['read_len'].max()"
   ]
  },
  {
   "cell_type": "code",
   "execution_count": 38,
   "metadata": {
    "collapsed": false
   },
   "outputs": [
    {
     "data": {
      "image/png": "[encoded data removed]",
      "text/plain": [
       "<matplotlib.figure.Figure at 0x11494a630>"
      ]
     },
     "metadata": {},
     "output_type": "display_data"
    }
   ],
   "source": [
    "plt.scatter(error_g20_df['read_len'], error_g20_df['%Identity'])\n",
    "plt.xlim(0,error_g20_df['read_len'].max()+10000)\n",
    "plt.xlabel('read_length')\n",
    "plt.ylabel('%Identity')\n",
    "plt.title('1D error rate Metichor calling')\n",
    "plt.xticks(np.arange(0,error_g20_df['read_len'].max()+10000,20000))\n",
    "plt.savefig(outdir+_id+'1D_error_rate_v2.tiff')"
   ]
  },
  {
   "cell_type": "code",
   "execution_count": 31,
   "metadata": {
    "collapsed": false
   },
   "outputs": [
    {
     "data": {
      "text/plain": [
       "<matplotlib.text.Text at 0x114eb4be0>"
      ]
     },
     "execution_count": 31,
     "metadata": {},
     "output_type": "execute_result"
    },
    {
     "data": {
      "image/png": "[encoded data removed]",
      "text/plain": [
       "<matplotlib.figure.Figure at 0x11489f4a8>"
      ]
     },
     "metadata": {},
     "output_type": "display_data"
    }
   ],
   "source": [
    "error_g20_df['read_len'].hist(bins=20)\n",
    "plt.xlabel('read_length')\n",
    "plt.ylabel('count')"
   ]
  },
  {
   "cell_type": "code",
   "execution_count": 32,
   "metadata": {
    "collapsed": false
   },
   "outputs": [
    {
     "data": {
      "text/plain": [
       "9247.845826616514"
      ]
     },
     "execution_count": 32,
     "metadata": {},
     "output_type": "execute_result"
    }
   ],
   "source": [
    "error_g20_df['read_len'].mean()"
   ]
  },
  {
   "cell_type": "code",
   "execution_count": 33,
   "metadata": {
    "collapsed": false
   },
   "outputs": [
    {
     "data": {
      "text/plain": [
       "6476.5"
      ]
     },
     "execution_count": 33,
     "metadata": {},
     "output_type": "execute_result"
    }
   ],
   "source": [
    "error_g20_df['read_len'].median()"
   ]
  },
  {
   "cell_type": "code",
   "execution_count": null,
   "metadata": {
    "collapsed": true
   },
   "outputs": [],
   "source": []
  }
 ],
 "metadata": {
  "anaconda-cloud": {},
  "kernelspec": {
   "display_name": "Python [Root]",
   "language": "python",
   "name": "Python [Root]"
  },
  "language_info": {
   "codemirror_mode": {
    "name": "ipython",
    "version": 3
   },
   "file_extension": ".py",
   "mimetype": "text/x-python",
   "name": "python",
   "nbconvert_exporter": "python",
   "pygments_lexer": "ipython3",
   "version": "3.5.2"
  }
 },
 "nbformat": 4,
 "nbformat_minor": 0
}
