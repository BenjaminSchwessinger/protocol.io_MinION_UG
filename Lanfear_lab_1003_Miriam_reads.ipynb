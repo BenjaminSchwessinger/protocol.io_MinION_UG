{
 "cells": [
  {
   "cell_type": "code",
   "execution_count": 15,
   "metadata": {
    "collapsed": false
   },
   "outputs": [],
   "source": [
    "%matplotlib inline\n",
    "import matplotlib.pyplot as plt\n",
    "import matplotlib\n",
    "import numpy as np\n",
    "import pandas as pd"
   ]
  },
  {
   "cell_type": "code",
   "execution_count": 2,
   "metadata": {
    "collapsed": false
   },
   "outputs": [],
   "source": [
    "import os"
   ]
  },
  {
   "cell_type": "code",
   "execution_count": 49,
   "metadata": {
    "collapsed": true
   },
   "outputs": [],
   "source": [
    "DATA_FOLDER = '/Users/ben/Documents/work_related/Canberra/Nanopore/data/Lanfear/'\n",
    "SCRIPT_FOLDER ='/Users/ben/Documents/work_related/Canberra/Nanopore/nanopore-scripts_BS'\n",
    "ANALYSIS_FOLDER ='/Users/ben/Documents/work_related/Canberra/Nanopore/analysis/eucalpyt/CP'\n",
    "GENOME_FOLDER = os.path.join(ANALYSIS_FOLDER, 'genome')\n",
    "genome = 'AY780259.fasta'"
   ]
  },
  {
   "cell_type": "code",
   "execution_count": 7,
   "metadata": {
    "collapsed": false
   },
   "outputs": [],
   "source": [
    "length_file = os.path.join(ANALYSIS_FOLDER, \"ANU2017_eucalypt.summary.txt\")\n",
    "_id = \"ANU2017_eucalypt.\""
   ]
  },
  {
   "cell_type": "code",
   "execution_count": 11,
   "metadata": {
    "collapsed": false
   },
   "outputs": [],
   "source": [
    "from Bio import SeqIO\n",
    "lengths = open(length_file, \"w\")\n",
    "for file in [os.path.join(DATA_FOLDER, x) for x in os.listdir(DATA_FOLDER) if x.endswith('fastq')]:\n",
    "    folder_name = file.split('/')[-1].split('.')[-2]\n",
    "    basecaller = file.split('/')[-1].split('.')[-3]\n",
    "    for seq in SeqIO.parse(file, 'fastq'):\n",
    "        print(\"%s,%s,%s,%s,%s\" %(seq.id , str(len(seq)), \\\n",
    "                                    np.mean(seq.letter_annotations[\"phred_quality\"]), folder_name, basecaller ),\\\n",
    "                                   file=lengths)\n",
    "lengths.close()"
   ]
  },
  {
   "cell_type": "code",
   "execution_count": 12,
   "metadata": {
    "collapsed": false
   },
   "outputs": [],
   "source": [
    "font = {'family' : 'normal',\n",
    "        'weight' : 'bold',\n",
    "        'size'   : 15}\n",
    "matplotlib.rc('font', **font) #changes font of the plot\n",
    "label_config_x = {'fontsize'            : 'large',\n",
    "      'verticalalignment'   : 'top',\n",
    "      'horizontalalignment' : 'center'\n",
    "      }\n",
    "label_config_y = {'fontsize'            : 'large',\n",
    "      'verticalalignment'   : 'bottom',\n",
    "      'horizontalalignment' : 'center'\n",
    "      }"
   ]
  },
  {
   "cell_type": "code",
   "execution_count": 13,
   "metadata": {
    "collapsed": false
   },
   "outputs": [
    {
     "name": "stdout",
     "output_type": "stream",
     "text": [
      "1002eb12-1933-4f4d-b399-547446c26d96,3502,17.2390062821,fail,albacore110\r\n",
      "158cbbae-c0e2-4c51-bcd7-ffd4f103d58c,6090,16.0137931034,fail,albacore110\r\n",
      "220e5400-0f97-47b7-b96e-e5ff3cfb0952,3536,19.3501131222,fail,albacore110\r\n",
      "75061170-22af-4116-b933-0a672449cef8,3434,10.0827023879,fail,albacore110\r\n",
      "7cd1beda-f427-4ac4-b7fe-b9410c827246,592,12.0658783784,fail,albacore110\r\n",
      "15f0f636-7b11-4230-b8f1-f3b222288f25,8975,13.5901949861,fail,albacore110\r\n",
      "e79b71b6-e9ac-4121-8bac-80c18eaf174c,2429,11.3141210375,fail,albacore110\r\n",
      "58288812-5d64-4cca-a392-97c03582b8f3,2575,9.04310679612,fail,albacore110\r\n",
      "d9984489-ac3e-4959-9a7c-0b9acd4551fb,3494,19.2527189468,fail,albacore110\r\n",
      "f174cfd9-c1e0-4a24-b301-5ed081be5499,1332,8.42417417417,fail,albacore110\r\n"
     ]
    }
   ],
   "source": [
    "!head {length_file}"
   ]
  },
  {
   "cell_type": "code",
   "execution_count": 16,
   "metadata": {
    "collapsed": true
   },
   "outputs": [],
   "source": [
    "header =['Read_id', 'Length', 'Q-score', 'folder', 'basecaller']"
   ]
  },
  {
   "cell_type": "code",
   "execution_count": 17,
   "metadata": {
    "collapsed": false
   },
   "outputs": [],
   "source": [
    "poretools_df  =pd.read_csv(length_file, header=None, names = header)"
   ]
  },
  {
   "cell_type": "code",
   "execution_count": 22,
   "metadata": {
    "collapsed": false
   },
   "outputs": [
    {
     "data": {
      "text/plain": [
       "<matplotlib.text.Text at 0x1177ca320>"
      ]
     },
     "execution_count": 22,
     "metadata": {},
     "output_type": "execute_result"
    },
    {
     "data": {
      "image/png": "[encoded data removed]",
      "text/plain": [
       "<matplotlib.figure.Figure at 0x115ceddd8>"
      ]
     },
     "metadata": {},
     "output_type": "display_data"
    }
   ],
   "source": [
    "poretools_df['Length'].hist(bins=60)\n",
    "plt.xlabel('read_length')\n",
    "plt.xticks(np.arange(0,poretools_df['Length'].max()+1,500000))\n",
    "plt.ylabel('count')\n",
    "plt.title('All reads')"
   ]
  },
  {
   "cell_type": "code",
   "execution_count": 37,
   "metadata": {
    "collapsed": false
   },
   "outputs": [
    {
     "data": {
      "text/plain": [
       "<matplotlib.text.Text at 0x1208b0a90>"
      ]
     },
     "execution_count": 37,
     "metadata": {},
     "output_type": "execute_result"
    },
    {
     "data": {
      "image/png": "[encoded data removed]",
      "text/plain": [
       "<matplotlib.figure.Figure at 0x11e685ba8>"
      ]
     },
     "metadata": {},
     "output_type": "display_data"
    }
   ],
   "source": [
    "poretools_df['Length'].hist(bins=800)\n",
    "plt.xlabel('read_length')\n",
    "plt.xticks(np.arange(0,poretools_df['Length'].mean()*4, 5000))\n",
    "plt.xlim(0,poretools_df['Length'].mean()*4 )\n",
    "plt.ylabel('count')\n",
    "plt.title('All reads')"
   ]
  },
  {
   "cell_type": "code",
   "execution_count": 42,
   "metadata": {
    "collapsed": false
   },
   "outputs": [
    {
     "data": {
      "text/html": [
       "<div>\n",
       "<table border=\"1\" class=\"dataframe\">\n",
       "  <thead>\n",
       "    <tr style=\"text-align: right;\">\n",
       "      <th></th>\n",
       "      <th></th>\n",
       "      <th></th>\n",
       "      <th>amax</th>\n",
       "      <th>mean</th>\n",
       "      <th>median</th>\n",
       "      <th>sum</th>\n",
       "    </tr>\n",
       "    <tr>\n",
       "      <th></th>\n",
       "      <th>folder</th>\n",
       "      <th>basecaller</th>\n",
       "      <th></th>\n",
       "      <th></th>\n",
       "      <th></th>\n",
       "      <th></th>\n",
       "    </tr>\n",
       "  </thead>\n",
       "  <tbody>\n",
       "    <tr>\n",
       "      <th rowspan=\"4\" valign=\"top\">Length</th>\n",
       "      <th rowspan=\"2\" valign=\"top\">fail</th>\n",
       "      <th>albacore110</th>\n",
       "      <td>869796.000000</td>\n",
       "      <td>7008.015153</td>\n",
       "      <td>3566.000000</td>\n",
       "      <td>4.541684e+08</td>\n",
       "    </tr>\n",
       "    <tr>\n",
       "      <th>metrichor</th>\n",
       "      <td>393492.000000</td>\n",
       "      <td>7034.297736</td>\n",
       "      <td>3458.000000</td>\n",
       "      <td>4.570676e+08</td>\n",
       "    </tr>\n",
       "    <tr>\n",
       "      <th rowspan=\"2\" valign=\"top\">pass</th>\n",
       "      <th>albacore110</th>\n",
       "      <td>141093.000000</td>\n",
       "      <td>10697.849263</td>\n",
       "      <td>6459.000000</td>\n",
       "      <td>1.055118e+09</td>\n",
       "    </tr>\n",
       "    <tr>\n",
       "      <th>metrichor</th>\n",
       "      <td>130492.000000</td>\n",
       "      <td>10268.578077</td>\n",
       "      <td>6216.000000</td>\n",
       "      <td>1.012954e+09</td>\n",
       "    </tr>\n",
       "    <tr>\n",
       "      <th rowspan=\"4\" valign=\"top\">Q-score</th>\n",
       "      <th rowspan=\"2\" valign=\"top\">fail</th>\n",
       "      <th>albacore110</th>\n",
       "      <td>22.741808</td>\n",
       "      <td>13.342673</td>\n",
       "      <td>13.548764</td>\n",
       "      <td>8.646986e+05</td>\n",
       "    </tr>\n",
       "    <tr>\n",
       "      <th>metrichor</th>\n",
       "      <td>10.173099</td>\n",
       "      <td>5.670286</td>\n",
       "      <td>5.752785</td>\n",
       "      <td>3.684382e+05</td>\n",
       "    </tr>\n",
       "    <tr>\n",
       "      <th rowspan=\"2\" valign=\"top\">pass</th>\n",
       "      <th>albacore110</th>\n",
       "      <td>23.607419</td>\n",
       "      <td>18.383803</td>\n",
       "      <td>18.460777</td>\n",
       "      <td>1.813176e+06</td>\n",
       "    </tr>\n",
       "    <tr>\n",
       "      <th>metrichor</th>\n",
       "      <td>11.608863</td>\n",
       "      <td>8.475983</td>\n",
       "      <td>8.537544</td>\n",
       "      <td>8.361218e+05</td>\n",
       "    </tr>\n",
       "  </tbody>\n",
       "</table>\n",
       "</div>"
      ],
      "text/plain": [
       "                                     amax          mean       median  \\\n",
       "        folder basecaller                                              \n",
       "Length  fail   albacore110  869796.000000   7008.015153  3566.000000   \n",
       "               metrichor    393492.000000   7034.297736  3458.000000   \n",
       "        pass   albacore110  141093.000000  10697.849263  6459.000000   \n",
       "               metrichor    130492.000000  10268.578077  6216.000000   \n",
       "Q-score fail   albacore110      22.741808     13.342673    13.548764   \n",
       "               metrichor        10.173099      5.670286     5.752785   \n",
       "        pass   albacore110      23.607419     18.383803    18.460777   \n",
       "               metrichor        11.608863      8.475983     8.537544   \n",
       "\n",
       "                                     sum  \n",
       "        folder basecaller                 \n",
       "Length  fail   albacore110  4.541684e+08  \n",
       "               metrichor    4.570676e+08  \n",
       "        pass   albacore110  1.055118e+09  \n",
       "               metrichor    1.012954e+09  \n",
       "Q-score fail   albacore110  8.646986e+05  \n",
       "               metrichor    3.684382e+05  \n",
       "        pass   albacore110  1.813176e+06  \n",
       "               metrichor    8.361218e+05  "
      ]
     },
     "execution_count": 42,
     "metadata": {},
     "output_type": "execute_result"
    }
   ],
   "source": [
    "poretools_df.pivot_table(values=['Length','Q-score'],columns=['folder', 'basecaller'],\\\n",
    "                         aggfunc=[np.max, np.mean, np.median, np.sum])"
   ]
  },
  {
   "cell_type": "code",
   "execution_count": 29,
   "metadata": {
    "collapsed": false
   },
   "outputs": [
    {
     "data": {
      "text/html": [
       "<div>\n",
       "<table border=\"1\" class=\"dataframe\">\n",
       "  <thead>\n",
       "    <tr style=\"text-align: right;\">\n",
       "      <th></th>\n",
       "      <th>Read_id</th>\n",
       "      <th>Length</th>\n",
       "      <th>Q-score</th>\n",
       "      <th>folder</th>\n",
       "      <th>basecaller</th>\n",
       "    </tr>\n",
       "  </thead>\n",
       "  <tbody>\n",
       "    <tr>\n",
       "      <th>50845</th>\n",
       "      <td>796c8bc7-5189-4a8e-8a2f-fe33a52921a1</td>\n",
       "      <td>869796</td>\n",
       "      <td>8.899461</td>\n",
       "      <td>fail</td>\n",
       "      <td>albacore110</td>\n",
       "    </tr>\n",
       "  </tbody>\n",
       "</table>\n",
       "</div>"
      ],
      "text/plain": [
       "                                    Read_id  Length   Q-score folder  \\\n",
       "50845  796c8bc7-5189-4a8e-8a2f-fe33a52921a1  869796  8.899461   fail   \n",
       "\n",
       "        basecaller  \n",
       "50845  albacore110  "
      ]
     },
     "execution_count": 29,
     "metadata": {},
     "output_type": "execute_result"
    }
   ],
   "source": [
    "poretools_df[poretools_df['Length'] == poretools_df.Length.max()]"
   ]
  },
  {
   "cell_type": "code",
   "execution_count": 44,
   "metadata": {
    "collapsed": false
   },
   "outputs": [
    {
     "data": {
      "text/plain": [
       "folder  basecaller \n",
       "fail    albacore110    [[Axes(0.125,0.125;0.336957x0.775), Axes(0.563...\n",
       "        metrichor      [[Axes(0.125,0.125;0.336957x0.775), Axes(0.563...\n",
       "pass    albacore110    [[Axes(0.125,0.125;0.336957x0.775), Axes(0.563...\n",
       "        metrichor      [[Axes(0.125,0.125;0.336957x0.775), Axes(0.563...\n",
       "dtype: object"
      ]
     },
     "execution_count": 44,
     "metadata": {},
     "output_type": "execute_result"
    },
    {
     "data": {
      "image/png": "[encoded data removed]",
      "text/plain": [
       "<matplotlib.figure.Figure at 0x120a2a748>"
      ]
     },
     "metadata": {},
     "output_type": "display_data"
    },
    {
     "data": {
      "image/png": "[encoded data removed]",
      "text/plain": [
       "<matplotlib.figure.Figure at 0x118e98cc0>"
      ]
     },
     "metadata": {},
     "output_type": "display_data"
    },
    {
     "data": {
      "image/png": "[encoded data removed]",
      "text/plain": [
       "<matplotlib.figure.Figure at 0x121dbbcc0>"
      ]
     },
     "metadata": {},
     "output_type": "display_data"
    },
    {
     "data": {
      "image/png": "[encoded data removed]",
      "text/plain": [
       "<matplotlib.figure.Figure at 0x11cee25c0>"
      ]
     },
     "metadata": {},
     "output_type": "display_data"
    }
   ],
   "source": [
    "poretools_df.groupby(by=['folder','basecaller']).hist(bins=60)"
   ]
  },
  {
   "cell_type": "code",
   "execution_count": 72,
   "metadata": {
    "collapsed": false
   },
   "outputs": [],
   "source": [
    "bams = [os.path.join(ANALYSIS_FOLDER, x) for x in os.listdir(ANALYSIS_FOLDER) if x.endswith('.bam')]"
   ]
  },
  {
   "cell_type": "code",
   "execution_count": 73,
   "metadata": {
    "collapsed": false
   },
   "outputs": [
    {
     "data": {
      "text/plain": [
       "['/Users/ben/Documents/work_related/Canberra/Nanopore/analysis/eucalpyt/CP/AY780259.1003_Miriam_data_downloaded.albacore110.fail.fastq.bwa.sorted.bam',\n",
       " '/Users/ben/Documents/work_related/Canberra/Nanopore/analysis/eucalpyt/CP/AY780259.1003_Miriam_data_downloaded.albacore110.fail.fastq.ngmlr.sorted.bam',\n",
       " '/Users/ben/Documents/work_related/Canberra/Nanopore/analysis/eucalpyt/CP/AY780259.1003_Miriam_data_downloaded.albacore110.pass.fastq.bwa.sorted.bam',\n",
       " '/Users/ben/Documents/work_related/Canberra/Nanopore/analysis/eucalpyt/CP/AY780259.1003_Miriam_data_downloaded.albacore110.pass.fastq.ngmlr.sorted.bam',\n",
       " '/Users/ben/Documents/work_related/Canberra/Nanopore/analysis/eucalpyt/CP/AY780259.1003_Miriam_data_downloaded.metrichor.fail.fastq.bwa.sorted.bam',\n",
       " '/Users/ben/Documents/work_related/Canberra/Nanopore/analysis/eucalpyt/CP/AY780259.1003_Miriam_data_downloaded.metrichor.fail.fastq.ngmlr.sorted.bam',\n",
       " '/Users/ben/Documents/work_related/Canberra/Nanopore/analysis/eucalpyt/CP/AY780259.1003_Miriam_data_downloaded.metrichor.pass.fastq.bwa.sorted.bam',\n",
       " '/Users/ben/Documents/work_related/Canberra/Nanopore/analysis/eucalpyt/CP/AY780259.1003_Miriam_data_downloaded.metrichor.pass.fastq.ngmlr.sorted.bam']"
      ]
     },
     "execution_count": 73,
     "metadata": {},
     "output_type": "execute_result"
    }
   ],
   "source": [
    "bams"
   ]
  },
  {
   "cell_type": "code",
   "execution_count": 74,
   "metadata": {
    "collapsed": false
   },
   "outputs": [
    {
     "name": "stdout",
     "output_type": "stream",
     "text": [
      "convert /Users/ben/Documents/work_related/Canberra/Nanopore/analysis/eucalpyt/CP/AY780259.1003_Miriam_data_downloaded.albacore110.fail.fastq.bwa.sorted.bam to /Users/ben/Documents/work_related/Canberra/Nanopore/analysis/eucalpyt/CP/AY780259.1003_Miriam_data_downloaded.albacore110.fail.fastq.bwa.sorted.expanded.bam\n",
      "convert /Users/ben/Documents/work_related/Canberra/Nanopore/analysis/eucalpyt/CP/AY780259.1003_Miriam_data_downloaded.albacore110.fail.fastq.ngmlr.sorted.bam to /Users/ben/Documents/work_related/Canberra/Nanopore/analysis/eucalpyt/CP/AY780259.1003_Miriam_data_downloaded.albacore110.fail.fastq.ngmlr.sorted.expanded.bam\n",
      "convert /Users/ben/Documents/work_related/Canberra/Nanopore/analysis/eucalpyt/CP/AY780259.1003_Miriam_data_downloaded.albacore110.pass.fastq.bwa.sorted.bam to /Users/ben/Documents/work_related/Canberra/Nanopore/analysis/eucalpyt/CP/AY780259.1003_Miriam_data_downloaded.albacore110.pass.fastq.bwa.sorted.expanded.bam\n",
      "convert /Users/ben/Documents/work_related/Canberra/Nanopore/analysis/eucalpyt/CP/AY780259.1003_Miriam_data_downloaded.albacore110.pass.fastq.ngmlr.sorted.bam to /Users/ben/Documents/work_related/Canberra/Nanopore/analysis/eucalpyt/CP/AY780259.1003_Miriam_data_downloaded.albacore110.pass.fastq.ngmlr.sorted.expanded.bam\n",
      "convert /Users/ben/Documents/work_related/Canberra/Nanopore/analysis/eucalpyt/CP/AY780259.1003_Miriam_data_downloaded.metrichor.fail.fastq.bwa.sorted.bam to /Users/ben/Documents/work_related/Canberra/Nanopore/analysis/eucalpyt/CP/AY780259.1003_Miriam_data_downloaded.metrichor.fail.fastq.bwa.sorted.expanded.bam\n",
      "convert /Users/ben/Documents/work_related/Canberra/Nanopore/analysis/eucalpyt/CP/AY780259.1003_Miriam_data_downloaded.metrichor.fail.fastq.ngmlr.sorted.bam to /Users/ben/Documents/work_related/Canberra/Nanopore/analysis/eucalpyt/CP/AY780259.1003_Miriam_data_downloaded.metrichor.fail.fastq.ngmlr.sorted.expanded.bam\n",
      "convert /Users/ben/Documents/work_related/Canberra/Nanopore/analysis/eucalpyt/CP/AY780259.1003_Miriam_data_downloaded.metrichor.pass.fastq.bwa.sorted.bam to /Users/ben/Documents/work_related/Canberra/Nanopore/analysis/eucalpyt/CP/AY780259.1003_Miriam_data_downloaded.metrichor.pass.fastq.bwa.sorted.expanded.bam\n",
      "convert /Users/ben/Documents/work_related/Canberra/Nanopore/analysis/eucalpyt/CP/AY780259.1003_Miriam_data_downloaded.metrichor.pass.fastq.ngmlr.sorted.bam to /Users/ben/Documents/work_related/Canberra/Nanopore/analysis/eucalpyt/CP/AY780259.1003_Miriam_data_downloaded.metrichor.pass.fastq.ngmlr.sorted.expanded.bam\n"
     ]
    }
   ],
   "source": [
    "genome_fasta = os.path.join(GENOME_FOLDER, genome)\n",
    "for bam in bams:\n",
    "    out_name = bam.replace('sorted','sorted.expanded')\n",
    "    print('convert %s to %s' % (bam, out_name))\n",
    "    !/Users/ben/anaconda3/envs/py27/bin/python /Users/ben/Documents/work_related/Canberra/Nanopore/nanopore-scripts/expand-cigar.py --bam {bam} --fasta {genome_fasta} > {out_name}"
   ]
  },
  {
   "cell_type": "code",
   "execution_count": 76,
   "metadata": {
    "collapsed": false
   },
   "outputs": [],
   "source": [
    "expanded_bams = [os.path.join(ANALYSIS_FOLDER, x) for x in os.listdir(ANALYSIS_FOLDER) if x.endswith('expanded.bam')]"
   ]
  },
  {
   "cell_type": "code",
   "execution_count": 79,
   "metadata": {
    "collapsed": false
   },
   "outputs": [
    {
     "name": "stdout",
     "output_type": "stream",
     "text": [
      "convert /Users/ben/Documents/work_related/Canberra/Nanopore/analysis/eucalpyt/CP/AY780259.1003_Miriam_data_downloaded.albacore110.fail.fastq.bwa.sorted.expanded.bam to /Users/ben/Documents/work_related/Canberra/Nanopore/analysis/eucalpyt/CP/AY780259.1003_Miriam_data_downloaded.albacore110.fail.fastq.bwa.error_profile.txt\n",
      "convert /Users/ben/Documents/work_related/Canberra/Nanopore/analysis/eucalpyt/CP/AY780259.1003_Miriam_data_downloaded.albacore110.fail.fastq.ngmlr.sorted.expanded.bam to /Users/ben/Documents/work_related/Canberra/Nanopore/analysis/eucalpyt/CP/AY780259.1003_Miriam_data_downloaded.albacore110.fail.fastq.ngmlr.error_profile.txt\n",
      "convert /Users/ben/Documents/work_related/Canberra/Nanopore/analysis/eucalpyt/CP/AY780259.1003_Miriam_data_downloaded.albacore110.pass.fastq.bwa.sorted.expanded.bam to /Users/ben/Documents/work_related/Canberra/Nanopore/analysis/eucalpyt/CP/AY780259.1003_Miriam_data_downloaded.albacore110.pass.fastq.bwa.error_profile.txt\n",
      "convert /Users/ben/Documents/work_related/Canberra/Nanopore/analysis/eucalpyt/CP/AY780259.1003_Miriam_data_downloaded.albacore110.pass.fastq.ngmlr.sorted.expanded.bam to /Users/ben/Documents/work_related/Canberra/Nanopore/analysis/eucalpyt/CP/AY780259.1003_Miriam_data_downloaded.albacore110.pass.fastq.ngmlr.error_profile.txt\n",
      "convert /Users/ben/Documents/work_related/Canberra/Nanopore/analysis/eucalpyt/CP/AY780259.1003_Miriam_data_downloaded.metrichor.fail.fastq.bwa.sorted.expanded.bam to /Users/ben/Documents/work_related/Canberra/Nanopore/analysis/eucalpyt/CP/AY780259.1003_Miriam_data_downloaded.metrichor.fail.fastq.bwa.error_profile.txt\n",
      "convert /Users/ben/Documents/work_related/Canberra/Nanopore/analysis/eucalpyt/CP/AY780259.1003_Miriam_data_downloaded.metrichor.fail.fastq.ngmlr.sorted.expanded.bam to /Users/ben/Documents/work_related/Canberra/Nanopore/analysis/eucalpyt/CP/AY780259.1003_Miriam_data_downloaded.metrichor.fail.fastq.ngmlr.error_profile.txt\n",
      "convert /Users/ben/Documents/work_related/Canberra/Nanopore/analysis/eucalpyt/CP/AY780259.1003_Miriam_data_downloaded.metrichor.pass.fastq.bwa.sorted.expanded.bam to /Users/ben/Documents/work_related/Canberra/Nanopore/analysis/eucalpyt/CP/AY780259.1003_Miriam_data_downloaded.metrichor.pass.fastq.bwa.error_profile.txt\n",
      "convert /Users/ben/Documents/work_related/Canberra/Nanopore/analysis/eucalpyt/CP/AY780259.1003_Miriam_data_downloaded.metrichor.pass.fastq.ngmlr.sorted.expanded.bam to /Users/ben/Documents/work_related/Canberra/Nanopore/analysis/eucalpyt/CP/AY780259.1003_Miriam_data_downloaded.metrichor.pass.fastq.ngmlr.error_profile.txt\n"
     ]
    }
   ],
   "source": [
    "for bam in expanded_bams:\n",
    "    out_name = bam.replace('sorted.expanded.bam','error_profile.txt')\n",
    "    \n",
    "    print('convert %s to %s' % (bam, out_name))\n",
    "    !/Users/ben/anaconda3/envs/py27/bin/python /Users/ben/Documents/work_related/Canberra/Nanopore/nanopore-scripts_BS/count_errors_BS.py {bam} > {out_name}    "
   ]
  },
  {
   "cell_type": "code",
   "execution_count": 91,
   "metadata": {
    "collapsed": false
   },
   "outputs": [],
   "source": [
    "error_profile_list = [os.path.join(ANALYSIS_FOLDER, x) for x in os.listdir(ANALYSIS_FOLDER) if x.endswith('error_profile.txt')]"
   ]
  },
  {
   "cell_type": "code",
   "execution_count": 92,
   "metadata": {
    "collapsed": false
   },
   "outputs": [
    {
     "data": {
      "text/plain": [
       "['/Users/ben/Documents/work_related/Canberra/Nanopore/analysis/eucalpyt/CP/AY780259.1003_Miriam_data_downloaded.albacore110.fail.fastq.bwa.error_profile.txt',\n",
       " '/Users/ben/Documents/work_related/Canberra/Nanopore/analysis/eucalpyt/CP/AY780259.1003_Miriam_data_downloaded.albacore110.fail.fastq.ngmlr.error_profile.txt',\n",
       " '/Users/ben/Documents/work_related/Canberra/Nanopore/analysis/eucalpyt/CP/AY780259.1003_Miriam_data_downloaded.albacore110.pass.fastq.bwa.error_profile.txt',\n",
       " '/Users/ben/Documents/work_related/Canberra/Nanopore/analysis/eucalpyt/CP/AY780259.1003_Miriam_data_downloaded.albacore110.pass.fastq.ngmlr.error_profile.txt',\n",
       " '/Users/ben/Documents/work_related/Canberra/Nanopore/analysis/eucalpyt/CP/AY780259.1003_Miriam_data_downloaded.metrichor.fail.fastq.bwa.error_profile.txt',\n",
       " '/Users/ben/Documents/work_related/Canberra/Nanopore/analysis/eucalpyt/CP/AY780259.1003_Miriam_data_downloaded.metrichor.fail.fastq.ngmlr.error_profile.txt',\n",
       " '/Users/ben/Documents/work_related/Canberra/Nanopore/analysis/eucalpyt/CP/AY780259.1003_Miriam_data_downloaded.metrichor.pass.fastq.bwa.error_profile.txt',\n",
       " '/Users/ben/Documents/work_related/Canberra/Nanopore/analysis/eucalpyt/CP/AY780259.1003_Miriam_data_downloaded.metrichor.pass.fastq.ngmlr.error_profile.txt']"
      ]
     },
     "execution_count": 92,
     "metadata": {},
     "output_type": "execute_result"
    }
   ],
   "source": [
    "error_profile_list"
   ]
  },
  {
   "cell_type": "code",
   "execution_count": 106,
   "metadata": {
    "collapsed": false
   },
   "outputs": [],
   "source": [
    "error_series = []\n",
    "for file in error_profile_list:\n",
    "    folder_name = file.split('/')[-1].split('.')[-5]\n",
    "    basecaller = file.split('/')[-1].split('.')[-6]\n",
    "    mapper = file.split('/')[-1].split('.')[-3]\n",
    "    tmp_df = pd.DataFrame.from_csv(file, sep='\\t')\n",
    "    tmp_df['folder'] = folder_name\n",
    "    tmp_df['basecaller'] = basecaller\n",
    "    tmp_df['mapper'] = mapper\n",
    "    \n",
    "    error_series.append(tmp_df)\n",
    "error_df = pd.concat(error_series)"
   ]
  },
  {
   "cell_type": "code",
   "execution_count": 107,
   "metadata": {
    "collapsed": true
   },
   "outputs": [],
   "source": [
    "error_df[\"%Identity\"] = (error_df['matches']/(error_df['matches']+error_df['deletions']+error_df['insertions']+error_df['mismatches'])*100)"
   ]
  },
  {
   "cell_type": "code",
   "execution_count": 108,
   "metadata": {
    "collapsed": false
   },
   "outputs": [
    {
     "data": {
      "text/html": [
       "<div>\n",
       "<table border=\"1\" class=\"dataframe\">\n",
       "  <thead>\n",
       "    <tr style=\"text-align: right;\">\n",
       "      <th></th>\n",
       "      <th>read_type</th>\n",
       "      <th>read_len</th>\n",
       "      <th>align_len</th>\n",
       "      <th>unalign_len</th>\n",
       "      <th>matches</th>\n",
       "      <th>mismatches</th>\n",
       "      <th>insertions</th>\n",
       "      <th>deletions</th>\n",
       "      <th>tot_errors</th>\n",
       "      <th>folder</th>\n",
       "      <th>basecaller</th>\n",
       "      <th>mapper</th>\n",
       "      <th>%Identity</th>\n",
       "    </tr>\n",
       "    <tr>\n",
       "      <th>query</th>\n",
       "      <th></th>\n",
       "      <th></th>\n",
       "      <th></th>\n",
       "      <th></th>\n",
       "      <th></th>\n",
       "      <th></th>\n",
       "      <th></th>\n",
       "      <th></th>\n",
       "      <th></th>\n",
       "      <th></th>\n",
       "      <th></th>\n",
       "      <th></th>\n",
       "      <th></th>\n",
       "    </tr>\n",
       "  </thead>\n",
       "  <tbody>\n",
       "    <tr>\n",
       "      <th>f867b962-58f5-4886-9d4e-6d7020be3f8c</th>\n",
       "      <td>f867b962-58f5-4886-9d4e-6d7020be3f8c</td>\n",
       "      <td>32560</td>\n",
       "      <td>33439</td>\n",
       "      <td>47</td>\n",
       "      <td>28359</td>\n",
       "      <td>2801</td>\n",
       "      <td>1353</td>\n",
       "      <td>2279</td>\n",
       "      <td>6433</td>\n",
       "      <td>fail</td>\n",
       "      <td>albacore110</td>\n",
       "      <td>bwa</td>\n",
       "      <td>81.510117</td>\n",
       "    </tr>\n",
       "    <tr>\n",
       "      <th>f867b962-58f5-4886-9d4e-6d7020be3f8c</th>\n",
       "      <td>f867b962-58f5-4886-9d4e-6d7020be3f8c</td>\n",
       "      <td>32560</td>\n",
       "      <td>33439</td>\n",
       "      <td>47</td>\n",
       "      <td>28742</td>\n",
       "      <td>2008</td>\n",
       "      <td>1763</td>\n",
       "      <td>2689</td>\n",
       "      <td>6460</td>\n",
       "      <td>fail</td>\n",
       "      <td>albacore110</td>\n",
       "      <td>ngmlr</td>\n",
       "      <td>81.648770</td>\n",
       "    </tr>\n",
       "    <tr>\n",
       "      <th>f867b962-58f5-4886-9d4e-6d7020be3f8c_Basecall_Alignment_template</th>\n",
       "      <td>f867b962-58f5-4886-9d4e-6d7020be3f8c</td>\n",
       "      <td>30699</td>\n",
       "      <td>33464</td>\n",
       "      <td>21</td>\n",
       "      <td>27459</td>\n",
       "      <td>2568</td>\n",
       "      <td>651</td>\n",
       "      <td>3437</td>\n",
       "      <td>6656</td>\n",
       "      <td>fail</td>\n",
       "      <td>metrichor</td>\n",
       "      <td>bwa</td>\n",
       "      <td>80.489521</td>\n",
       "    </tr>\n",
       "    <tr>\n",
       "      <th>f867b962-58f5-4886-9d4e-6d7020be3f8c_Basecall_Alignment_template</th>\n",
       "      <td>f867b962-58f5-4886-9d4e-6d7020be3f8c</td>\n",
       "      <td>30699</td>\n",
       "      <td>33433</td>\n",
       "      <td>48</td>\n",
       "      <td>27785</td>\n",
       "      <td>1883</td>\n",
       "      <td>983</td>\n",
       "      <td>3765</td>\n",
       "      <td>6631</td>\n",
       "      <td>fail</td>\n",
       "      <td>metrichor</td>\n",
       "      <td>ngmlr</td>\n",
       "      <td>80.732799</td>\n",
       "    </tr>\n",
       "  </tbody>\n",
       "</table>\n",
       "</div>"
      ],
      "text/plain": [
       "                                                                               read_type  \\\n",
       "query                                                                                      \n",
       "f867b962-58f5-4886-9d4e-6d7020be3f8c                f867b962-58f5-4886-9d4e-6d7020be3f8c   \n",
       "f867b962-58f5-4886-9d4e-6d7020be3f8c                f867b962-58f5-4886-9d4e-6d7020be3f8c   \n",
       "f867b962-58f5-4886-9d4e-6d7020be3f8c_Basecall_A...  f867b962-58f5-4886-9d4e-6d7020be3f8c   \n",
       "f867b962-58f5-4886-9d4e-6d7020be3f8c_Basecall_A...  f867b962-58f5-4886-9d4e-6d7020be3f8c   \n",
       "\n",
       "                                                    read_len  align_len  \\\n",
       "query                                                                     \n",
       "f867b962-58f5-4886-9d4e-6d7020be3f8c                   32560      33439   \n",
       "f867b962-58f5-4886-9d4e-6d7020be3f8c                   32560      33439   \n",
       "f867b962-58f5-4886-9d4e-6d7020be3f8c_Basecall_A...     30699      33464   \n",
       "f867b962-58f5-4886-9d4e-6d7020be3f8c_Basecall_A...     30699      33433   \n",
       "\n",
       "                                                    unalign_len  matches  \\\n",
       "query                                                                      \n",
       "f867b962-58f5-4886-9d4e-6d7020be3f8c                         47    28359   \n",
       "f867b962-58f5-4886-9d4e-6d7020be3f8c                         47    28742   \n",
       "f867b962-58f5-4886-9d4e-6d7020be3f8c_Basecall_A...           21    27459   \n",
       "f867b962-58f5-4886-9d4e-6d7020be3f8c_Basecall_A...           48    27785   \n",
       "\n",
       "                                                    mismatches  insertions  \\\n",
       "query                                                                        \n",
       "f867b962-58f5-4886-9d4e-6d7020be3f8c                      2801        1353   \n",
       "f867b962-58f5-4886-9d4e-6d7020be3f8c                      2008        1763   \n",
       "f867b962-58f5-4886-9d4e-6d7020be3f8c_Basecall_A...        2568         651   \n",
       "f867b962-58f5-4886-9d4e-6d7020be3f8c_Basecall_A...        1883         983   \n",
       "\n",
       "                                                    deletions  tot_errors  \\\n",
       "query                                                                       \n",
       "f867b962-58f5-4886-9d4e-6d7020be3f8c                     2279        6433   \n",
       "f867b962-58f5-4886-9d4e-6d7020be3f8c                     2689        6460   \n",
       "f867b962-58f5-4886-9d4e-6d7020be3f8c_Basecall_A...       3437        6656   \n",
       "f867b962-58f5-4886-9d4e-6d7020be3f8c_Basecall_A...       3765        6631   \n",
       "\n",
       "                                                   folder   basecaller mapper  \\\n",
       "query                                                                           \n",
       "f867b962-58f5-4886-9d4e-6d7020be3f8c                 fail  albacore110    bwa   \n",
       "f867b962-58f5-4886-9d4e-6d7020be3f8c                 fail  albacore110  ngmlr   \n",
       "f867b962-58f5-4886-9d4e-6d7020be3f8c_Basecall_A...   fail    metrichor    bwa   \n",
       "f867b962-58f5-4886-9d4e-6d7020be3f8c_Basecall_A...   fail    metrichor  ngmlr   \n",
       "\n",
       "                                                    %Identity  \n",
       "query                                                          \n",
       "f867b962-58f5-4886-9d4e-6d7020be3f8c                81.510117  \n",
       "f867b962-58f5-4886-9d4e-6d7020be3f8c                81.648770  \n",
       "f867b962-58f5-4886-9d4e-6d7020be3f8c_Basecall_A...  80.489521  \n",
       "f867b962-58f5-4886-9d4e-6d7020be3f8c_Basecall_A...  80.732799  "
      ]
     },
     "execution_count": 108,
     "metadata": {},
     "output_type": "execute_result"
    }
   ],
   "source": [
    "error_df[error_df.read_type == 'f867b962-58f5-4886-9d4e-6d7020be3f8c']"
   ]
  },
  {
   "cell_type": "code",
   "execution_count": 114,
   "metadata": {
    "collapsed": false,
    "scrolled": true
   },
   "outputs": [
    {
     "data": {
      "text/html": [
       "<div>\n",
       "<table border=\"1\" class=\"dataframe\">\n",
       "  <thead>\n",
       "    <tr style=\"text-align: right;\">\n",
       "      <th></th>\n",
       "      <th></th>\n",
       "      <th></th>\n",
       "      <th>amax</th>\n",
       "      <th>mean</th>\n",
       "      <th>median</th>\n",
       "      <th>count_nonzero</th>\n",
       "    </tr>\n",
       "    <tr>\n",
       "      <th>folder</th>\n",
       "      <th>mapper</th>\n",
       "      <th>basecaller</th>\n",
       "      <th></th>\n",
       "      <th></th>\n",
       "      <th></th>\n",
       "      <th></th>\n",
       "    </tr>\n",
       "  </thead>\n",
       "  <tbody>\n",
       "    <tr>\n",
       "      <th rowspan=\"4\" valign=\"top\">fail</th>\n",
       "      <th rowspan=\"2\" valign=\"top\">bwa</th>\n",
       "      <th>albacore110</th>\n",
       "      <td>95.56</td>\n",
       "      <td>71.53</td>\n",
       "      <td>70.98</td>\n",
       "      <td>3148.0</td>\n",
       "    </tr>\n",
       "    <tr>\n",
       "      <th>metrichor</th>\n",
       "      <td>100.00</td>\n",
       "      <td>72.56</td>\n",
       "      <td>73.31</td>\n",
       "      <td>1869.0</td>\n",
       "    </tr>\n",
       "    <tr>\n",
       "      <th rowspan=\"2\" valign=\"top\">ngmlr</th>\n",
       "      <th>albacore110</th>\n",
       "      <td>100.00</td>\n",
       "      <td>82.52</td>\n",
       "      <td>81.72</td>\n",
       "      <td>883.0</td>\n",
       "    </tr>\n",
       "    <tr>\n",
       "      <th>metrichor</th>\n",
       "      <td>100.00</td>\n",
       "      <td>79.61</td>\n",
       "      <td>79.65</td>\n",
       "      <td>724.0</td>\n",
       "    </tr>\n",
       "    <tr>\n",
       "      <th rowspan=\"4\" valign=\"top\">pass</th>\n",
       "      <th rowspan=\"2\" valign=\"top\">bwa</th>\n",
       "      <th>albacore110</th>\n",
       "      <td>100.00</td>\n",
       "      <td>73.38</td>\n",
       "      <td>72.03</td>\n",
       "      <td>15884.0</td>\n",
       "    </tr>\n",
       "    <tr>\n",
       "      <th>metrichor</th>\n",
       "      <td>100.00</td>\n",
       "      <td>77.20</td>\n",
       "      <td>79.31</td>\n",
       "      <td>11351.0</td>\n",
       "    </tr>\n",
       "    <tr>\n",
       "      <th rowspan=\"2\" valign=\"top\">ngmlr</th>\n",
       "      <th>albacore110</th>\n",
       "      <td>94.56</td>\n",
       "      <td>88.09</td>\n",
       "      <td>88.69</td>\n",
       "      <td>3496.0</td>\n",
       "    </tr>\n",
       "    <tr>\n",
       "      <th>metrichor</th>\n",
       "      <td>94.69</td>\n",
       "      <td>87.18</td>\n",
       "      <td>87.77</td>\n",
       "      <td>3529.0</td>\n",
       "    </tr>\n",
       "  </tbody>\n",
       "</table>\n",
       "</div>"
      ],
      "text/plain": [
       "                             amax   mean  median  count_nonzero\n",
       "folder mapper basecaller                                       \n",
       "fail   bwa    albacore110   95.56  71.53   70.98         3148.0\n",
       "              metrichor    100.00  72.56   73.31         1869.0\n",
       "       ngmlr  albacore110  100.00  82.52   81.72          883.0\n",
       "              metrichor    100.00  79.61   79.65          724.0\n",
       "pass   bwa    albacore110  100.00  73.38   72.03        15884.0\n",
       "              metrichor    100.00  77.20   79.31        11351.0\n",
       "       ngmlr  albacore110   94.56  88.09   88.69         3496.0\n",
       "              metrichor     94.69  87.18   87.77         3529.0"
      ]
     },
     "execution_count": 114,
     "metadata": {},
     "output_type": "execute_result"
    }
   ],
   "source": [
    "error_df.pivot_table(values='%Identity',columns=['folder', 'mapper','basecaller'],\\\n",
    "                         aggfunc=[np.max, np.mean, np.median, np.count_nonzero]).round(2)"
   ]
  },
  {
   "cell_type": "code",
   "execution_count": null,
   "metadata": {
    "collapsed": false
   },
   "outputs": [],
   "source": [
    "error_df[\"%Identity\"] = (error_df['matches']/(error_df['matches']+error_df['deletions']+error_df['insertions']+error_df['mismatches'])*100)"
   ]
  },
  {
   "cell_type": "code",
   "execution_count": null,
   "metadata": {
    "collapsed": false
   },
   "outputs": [],
   "source": [
    "error_df['%Identity'].hist(bins=30)\n",
    "plt.xlim(20,100)"
   ]
  },
  {
   "cell_type": "code",
   "execution_count": null,
   "metadata": {
    "collapsed": false
   },
   "outputs": [],
   "source": [
    "error_df['%Identity'].median()"
   ]
  },
  {
   "cell_type": "code",
   "execution_count": null,
   "metadata": {
    "collapsed": false
   },
   "outputs": [],
   "source": [
    "error_df['%Identity'].mean()"
   ]
  },
  {
   "cell_type": "code",
   "execution_count": null,
   "metadata": {
    "collapsed": false
   },
   "outputs": [],
   "source": [
    "error_g20_df = error_df[error_df['%Identity'] > 20]"
   ]
  },
  {
   "cell_type": "code",
   "execution_count": null,
   "metadata": {
    "collapsed": false
   },
   "outputs": [],
   "source": [
    "error_g20_df['%Identity'].median()"
   ]
  },
  {
   "cell_type": "code",
   "execution_count": null,
   "metadata": {
    "collapsed": false
   },
   "outputs": [],
   "source": [
    "error_g20_df['%Identity'].mean()"
   ]
  },
  {
   "cell_type": "code",
   "execution_count": null,
   "metadata": {
    "collapsed": false
   },
   "outputs": [],
   "source": [
    "error_g20_df['%Identity'].hist(bins=30)\n",
    "plt.xlabel('%Identity')\n",
    "plt.ylabel('Count')\n",
    "plt.title('1D error rate Metichor calling')\n",
    "plt.savefig(outdir+_id+'1D_error_rate.tiff')"
   ]
  },
  {
   "cell_type": "code",
   "execution_count": null,
   "metadata": {
    "collapsed": false
   },
   "outputs": [],
   "source": [
    "error_g20_df['%Identity'].count()"
   ]
  },
  {
   "cell_type": "code",
   "execution_count": null,
   "metadata": {
    "collapsed": false
   },
   "outputs": [],
   "source": [
    "poretools_df[1].count()"
   ]
  },
  {
   "cell_type": "code",
   "execution_count": null,
   "metadata": {
    "collapsed": false
   },
   "outputs": [],
   "source": [
    "pc_mapping = error_g20_df['%Identity'].count()/poretools_df[1].count()*100"
   ]
  },
  {
   "cell_type": "code",
   "execution_count": null,
   "metadata": {
    "collapsed": false
   },
   "outputs": [],
   "source": [
    "pc_mapping"
   ]
  },
  {
   "cell_type": "code",
   "execution_count": null,
   "metadata": {
    "collapsed": false
   },
   "outputs": [],
   "source": [
    "error_g20_df['read_len'].max()"
   ]
  },
  {
   "cell_type": "code",
   "execution_count": null,
   "metadata": {
    "collapsed": false
   },
   "outputs": [],
   "source": [
    "plt.scatter(error_g20_df['read_len'], error_g20_df['%Identity'])\n",
    "plt.xlim(0,80000)\n",
    "plt.xlabel('read_length')\n",
    "plt.ylabel('%Identity')\n",
    "plt.title('1D error rate Metichor calling')\n",
    "plt.xticks(np.arange(0,80001,20000))\n",
    "plt.savefig(outdir+_id+'1D_error_rate_v2.tiff')"
   ]
  },
  {
   "cell_type": "code",
   "execution_count": null,
   "metadata": {
    "collapsed": false
   },
   "outputs": [],
   "source": [
    "error_g20_df['read_len'].hist(bins=20)\n",
    "plt.xlabel('read_length')\n",
    "plt.ylabel('count')"
   ]
  },
  {
   "cell_type": "code",
   "execution_count": null,
   "metadata": {
    "collapsed": false
   },
   "outputs": [],
   "source": [
    "error_g20_df['read_len'].mean()"
   ]
  },
  {
   "cell_type": "code",
   "execution_count": null,
   "metadata": {
    "collapsed": false
   },
   "outputs": [],
   "source": [
    "error_g20_df['read_len'].median()"
   ]
  },
  {
   "cell_type": "code",
   "execution_count": null,
   "metadata": {
    "collapsed": false
   },
   "outputs": [],
   "source": []
  }
 ],
 "metadata": {
  "anaconda-cloud": {},
  "kernelspec": {
   "display_name": "Python [conda root]",
   "language": "python",
   "name": "conda-root-py"
  },
  "language_info": {
   "codemirror_mode": {
    "name": "ipython",
    "version": 3
   },
   "file_extension": ".py",
   "mimetype": "text/x-python",
   "name": "python",
   "nbconvert_exporter": "python",
   "pygments_lexer": "ipython3",
   "version": "3.5.2"
  }
 },
 "nbformat": 4,
 "nbformat_minor": 0
}
